{
 "cells": [
  {
   "cell_type": "code",
   "execution_count": 359,
   "id": "2e95ae5a",
   "metadata": {
    "collapsed": true
   },
   "outputs": [
    {
     "name": "stdout",
     "output_type": "stream",
     "text": [
      "Collecting plotly\n",
      "  Downloading plotly-5.4.0-py2.py3-none-any.whl (25.3 MB)\n",
      "     |████████████████████████████████| 25.3 MB 36.4 MB/s            \n",
      "\u001b[?25hRequirement already satisfied: six in /opt/conda/lib/python3.9/site-packages (from plotly) (1.16.0)\n",
      "Collecting tenacity>=6.2.0\n",
      "  Downloading tenacity-8.0.1-py3-none-any.whl (24 kB)\n",
      "Installing collected packages: tenacity, plotly\n",
      "Successfully installed plotly-5.4.0 tenacity-8.0.1\n"
     ]
    }
   ],
   "source": [
    "!pip install plotly"
   ]
  },
  {
   "cell_type": "markdown",
   "id": "ddad8abd",
   "metadata": {},
   "source": [
    "# Insurance Analysis\n",
    "\n",
    "Written by Aiswarya Sriram (as14988@nyu.edu), Reuben Cherian (rc4610@nyu.edu) , Sindhu Bhoopalam Dinesh (sb8019@nyu.edu)"
   ]
  },
  {
   "cell_type": "code",
   "execution_count": 1,
   "id": "ae010a1f",
   "metadata": {},
   "outputs": [],
   "source": [
    "import pyspark\n",
    "from pyspark.sql.functions import *\n",
    "from pyspark.sql.types import StructType,StructField, StringType, FloatType, IntegerType\n",
    "from pyspark.sql.window import Window\n"
   ]
  },
  {
   "cell_type": "code",
   "execution_count": 2,
   "id": "afb35779",
   "metadata": {},
   "outputs": [
    {
     "name": "stderr",
     "output_type": "stream",
     "text": [
      "WARNING: An illegal reflective access operation has occurred\n",
      "WARNING: Illegal reflective access by org.apache.spark.unsafe.Platform (file:/usr/local/spark-3.2.0-bin-hadoop3.2/jars/spark-unsafe_2.12-3.2.0.jar) to constructor java.nio.DirectByteBuffer(long,int)\n",
      "WARNING: Please consider reporting this to the maintainers of org.apache.spark.unsafe.Platform\n",
      "WARNING: Use --illegal-access=warn to enable warnings of further illegal reflective access operations\n",
      "WARNING: All illegal access operations will be denied in a future release\n",
      "Using Spark's default log4j profile: org/apache/spark/log4j-defaults.properties\n",
      "Setting default log level to \"WARN\".\n",
      "To adjust logging level use sc.setLogLevel(newLevel). For SparkR, use setLogLevel(newLevel).\n",
      "21/12/16 20:10:19 WARN NativeCodeLoader: Unable to load native-hadoop library for your platform... using builtin-java classes where applicable\n"
     ]
    }
   ],
   "source": [
    "spark = pyspark.sql.SparkSession.builder\\\n",
    "        .master('local[*]')\\\n",
    "        .appName('insurance_analysis')\\\n",
    "        .getOrCreate()"
   ]
  },
  {
   "cell_type": "code",
   "execution_count": 3,
   "id": "bce51476",
   "metadata": {},
   "outputs": [],
   "source": [
    "import pandas as pd\n",
    "pd.set_option('display.max_rows',10)"
   ]
  },
  {
   "cell_type": "markdown",
   "id": "1812b67a",
   "metadata": {},
   "source": [
    "## Part I - Rate vs State Analysis"
   ]
  },
  {
   "cell_type": "code",
   "execution_count": 4,
   "id": "9eff2028",
   "metadata": {},
   "outputs": [
    {
     "name": "stderr",
     "output_type": "stream",
     "text": [
      "                                                                                \r"
     ]
    }
   ],
   "source": [
    "rate_data = spark.read\\\n",
    "        .option(\"InferSchema\",\"true\")\\\n",
    "        .option(\"header\",\"true\")\\\n",
    "        .format(\"csv\")\\\n",
    "        .load(\"data/Rate.csv\")"
   ]
  },
  {
   "cell_type": "code",
   "execution_count": 27,
   "id": "3eef20ec",
   "metadata": {},
   "outputs": [],
   "source": [
    "rs_data = rate_data.select(\"IndividualRate\",\"StateCode\")"
   ]
  },
  {
   "cell_type": "code",
   "execution_count": 28,
   "id": "287adf4c",
   "metadata": {},
   "outputs": [
    {
     "name": "stdout",
     "output_type": "stream",
     "text": [
      "+--------------+---------+\n",
      "|IndividualRate|StateCode|\n",
      "+--------------+---------+\n",
      "|          29.0|       AK|\n",
      "|         36.95|       AK|\n",
      "|         36.95|       AK|\n",
      "|          32.0|       AK|\n",
      "|          32.0|       AK|\n",
      "|         36.95|       AK|\n",
      "|         32.45|       AK|\n",
      "|          32.0|       AK|\n",
      "|          32.0|       AK|\n",
      "|         32.45|       AK|\n",
      "|         32.45|       AK|\n",
      "|          32.0|       AK|\n",
      "|          32.0|       AK|\n",
      "|          32.0|       AK|\n",
      "|          32.0|       AK|\n",
      "|          32.0|       AK|\n",
      "|          32.0|       AK|\n",
      "|          32.0|       AK|\n",
      "|          32.0|       AK|\n",
      "|          32.0|       AK|\n",
      "+--------------+---------+\n",
      "only showing top 20 rows\n",
      "\n"
     ]
    }
   ],
   "source": [
    "rs_data.show()"
   ]
  },
  {
   "cell_type": "markdown",
   "id": "c7d2c743",
   "metadata": {},
   "source": [
    "To find understand the dependence of Individual Rate and State Code we can use coorelation ratio which will compare the intra category dispersion to the overall dispersion.<br>\n",
    "Correlation ratio is defined as $ \\eta^2 = \\frac{\\sum_{x}n_x(\\bar{y_{x}}-\\bar{y})^2}{\\sum_{x,i}(y_{xi}-\\bar{y})^2}$ or the ratio between the weighted variance of the category means and the overall variance <br> \n",
    "When correlation ratio is 1 then we know that the dispersion is because of the difference between the states suggesting high dependence between Individual Rate and State.\n",
    "When correlation ratio is 0 then we know that the intra category dispersion is all the same suggestion no depence between the two columns Individual Rate and State."
   ]
  },
  {
   "cell_type": "markdown",
   "id": "2d28ee3d",
   "metadata": {},
   "source": [
    "We can easily calculate the overall denominator by finding variance and frequency/count and multiplying the variance with $\\text{(frequency)}^2$ as shown below"
   ]
  },
  {
   "cell_type": "code",
   "execution_count": 29,
   "id": "bcfaf2d3",
   "metadata": {},
   "outputs": [
    {
     "name": "stderr",
     "output_type": "stream",
     "text": [
      "                                                                                \r"
     ]
    }
   ],
   "source": [
    "overall_variance = rs_data.select(variance(col('IndividualRate')).alias('variance')).collect()\n",
    "overall_count = rs_data.select(count(col('IndividualRate')).alias('count')).collect()\n",
    "overall_mean = rs_data.select(mean(col('IndividualRate')).alias('mean')).collect()"
   ]
  },
  {
   "cell_type": "code",
   "execution_count": 8,
   "id": "a19ba2c0",
   "metadata": {},
   "outputs": [],
   "source": [
    "overall_denominator = overall_variance[0][0]*overall_count[0][0]"
   ]
  },
  {
   "cell_type": "code",
   "execution_count": 9,
   "id": "934063d6",
   "metadata": {},
   "outputs": [
    {
     "data": {
      "text/plain": [
       "4.758157944723991e+16"
      ]
     },
     "execution_count": 9,
     "metadata": {},
     "output_type": "execute_result"
    }
   ],
   "source": [
    "overall_denominator"
   ]
  },
  {
   "cell_type": "markdown",
   "id": "5b218b13",
   "metadata": {},
   "source": [
    "To find the numerator part we will use window functions to find the frequency and variance for each category (State)."
   ]
  },
  {
   "cell_type": "code",
   "execution_count": 10,
   "id": "aab557a2",
   "metadata": {},
   "outputs": [],
   "source": [
    "groups = Window.partitionBy(\"StateCode\").orderBy(\"IndividualRate\")\n",
    "windowspec = Window.partitionBy(\"StateCode\")"
   ]
  },
  {
   "cell_type": "code",
   "execution_count": 11,
   "id": "9acf1018",
   "metadata": {},
   "outputs": [],
   "source": [
    "state_stats = rs_data.withColumn(\"row\",row_number().over(groups))\\\n",
    "  .withColumn(\"count\",count(col(\"IndividualRate\")).over(windowspec)) \\\n",
    "  .withColumn(\"mean\", mean(col(\"IndividualRate\")).over(windowspec)) \\\n",
    "  .where(col(\"row\")==1).select(\"StateCode\",\"count\",\"mean\")"
   ]
  },
  {
   "cell_type": "code",
   "execution_count": 12,
   "id": "9d880185",
   "metadata": {},
   "outputs": [],
   "source": [
    "state_stats = state_stats.withColumn(\"overall_mean\",lit(overall_mean[0][0]))"
   ]
  },
  {
   "cell_type": "code",
   "execution_count": 13,
   "id": "ad285cd0",
   "metadata": {},
   "outputs": [],
   "source": [
    "num_part_udf = udf(lambda col1, col2, col3 : col3*(col1-col2)**2, FloatType())"
   ]
  },
  {
   "cell_type": "code",
   "execution_count": 14,
   "id": "bda86919",
   "metadata": {},
   "outputs": [],
   "source": [
    "state_stats = state_stats.withColumn(\"numerator_part\",num_part_udf(col(\"mean\"),col(\"overall_mean\"),col(\"count\")))"
   ]
  },
  {
   "cell_type": "code",
   "execution_count": 15,
   "id": "526d8380",
   "metadata": {},
   "outputs": [
    {
     "name": "stderr",
     "output_type": "stream",
     "text": [
      "[Stage 16:==============>                                           (1 + 3) / 4]\r"
     ]
    },
    {
     "name": "stdout",
     "output_type": "stream",
     "text": [
      "+---------+-------+------------------+----------------+--------------+\n",
      "|StateCode|  count|              mean|    overall_mean|numerator_part|\n",
      "+---------+-------+------------------+----------------+--------------+\n",
      "|       AZ| 350032| 3976.503845019884|4098.02645859167|   5.1691837E9|\n",
      "|       SC|1563770| 5681.339818381169|4098.02645859167| 3.92018552E12|\n",
      "|       LA| 172060| 8716.849949721405|4098.02645859167| 3.67064724E12|\n",
      "|       MI|1023190|3052.6028670669875|4098.02645859167| 1.11825505E12|\n",
      "|       NH|  18176| 351.4294608274661|4098.02645859167| 2.55136317E11|\n",
      "|       NJ| 173175| 422.0171524758388|4098.02645859167| 2.34012148E12|\n",
      "|       NV|  32016|299.12199530425806|4098.02645859167| 4.62044496E11|\n",
      "|       OR|  68402| 277.1508622554897|4098.02645859167|  9.9860696E11|\n",
      "|       VA| 325316| 319.3265238660536|4098.02645859167|  4.6450485E12|\n",
      "|       WY|  46134|12103.594558460136|4098.02645859167| 2.95668757E12|\n",
      "|       DE|  15928|  359.123400929182|4098.02645859167| 2.22663819E11|\n",
      "|       ID|  69442| 18457.37681460788|4098.02645859167| 1.43183116E13|\n",
      "|       MO| 148948|12305.733323643151|4098.02645859167| 1.00340985E13|\n",
      "|       MT| 148632| 5133.976639418155|4098.02645859167|  1.5951079E11|\n",
      "|       NC| 365684| 8206.358099096491|4098.02645859167|  6.1721569E12|\n",
      "|       NE|  80902| 9155.720852636523|4098.02645859167| 2.06949515E12|\n",
      "|       WI|1013278|477.03768819612344|4098.02645859167| 1.32856551E13|\n",
      "|       AL| 196896|12131.738408245978|4098.02645859167| 1.27077722E13|\n",
      "|       IL| 432827| 372.4453151027984|4098.02645859167|  6.0076191E12|\n",
      "|       IN| 677393| 4855.918481959524|4098.02645859167| 3.89094769E11|\n",
      "+---------+-------+------------------+----------------+--------------+\n",
      "only showing top 20 rows\n",
      "\n"
     ]
    },
    {
     "name": "stderr",
     "output_type": "stream",
     "text": [
      "                                                                                \r"
     ]
    }
   ],
   "source": [
    "state_stats.show()"
   ]
  },
  {
   "cell_type": "code",
   "execution_count": 16,
   "id": "c52ec8f7",
   "metadata": {},
   "outputs": [
    {
     "name": "stderr",
     "output_type": "stream",
     "text": [
      "                                                                                \r"
     ]
    }
   ],
   "source": [
    "overall_numerator = state_stats.select(sum(col(\"numerator_part\"))).collect()\n",
    "overall_numerator = overall_numerator[0][0]"
   ]
  },
  {
   "cell_type": "code",
   "execution_count": 17,
   "id": "e835e0f6",
   "metadata": {},
   "outputs": [
    {
     "data": {
      "text/plain": [
       "152617688230912.0"
      ]
     },
     "execution_count": 17,
     "metadata": {},
     "output_type": "execute_result"
    }
   ],
   "source": [
    "overall_numerator"
   ]
  },
  {
   "cell_type": "code",
   "execution_count": 18,
   "id": "09ce242b",
   "metadata": {},
   "outputs": [],
   "source": [
    "corr_ratio = overall_numerator/overall_denominator"
   ]
  },
  {
   "cell_type": "code",
   "execution_count": 19,
   "id": "aacd49a8",
   "metadata": {},
   "outputs": [
    {
     "data": {
      "text/plain": [
       "0.003207495211463918"
      ]
     },
     "execution_count": 19,
     "metadata": {},
     "output_type": "execute_result"
    }
   ],
   "source": [
    "corr_ratio"
   ]
  },
  {
   "cell_type": "markdown",
   "id": "270290b1",
   "metadata": {},
   "source": [
    "From the above correlation ratio we can conclude that individual insurance rates aren't heavily affected by the state that the individual is from."
   ]
  },
  {
   "cell_type": "markdown",
   "id": "adacbc9e",
   "metadata": {},
   "source": [
    "Despite the low correlation we can still plot a heatmap showing the average rates of insurance plans for each state which can be very insightful to insurance providers (its good to know which states people on average pays the most for their insurance plans.)"
   ]
  },
  {
   "cell_type": "code",
   "execution_count": 36,
   "id": "62995b3b",
   "metadata": {},
   "outputs": [
    {
     "name": "stderr",
     "output_type": "stream",
     "text": [
      "                                                                                \r"
     ]
    }
   ],
   "source": [
    "average_rates = [val.mean for val in state_stats.select('mean').collect()]\n",
    "states = [val.StateCode for val in state_stats.select('StateCode').collect()]"
   ]
  },
  {
   "cell_type": "code",
   "execution_count": 37,
   "id": "e93b6672",
   "metadata": {},
   "outputs": [
    {
     "data": {
      "application/vnd.plotly.v1+json": {
       "config": {
        "plotlyServerURL": "https://plot.ly"
       },
       "data": [
        {
         "coloraxis": "coloraxis",
         "geo": "geo",
         "hovertemplate": "locations=%{location}<br>Avg. Annual Rate in USD=%{z}<extra></extra>",
         "locationmode": "USA-states",
         "locations": [
          "AZ",
          "SC",
          "LA",
          "MI",
          "NH",
          "NJ",
          "NV",
          "OR",
          "VA",
          "WY",
          "DE",
          "ID",
          "MO",
          "MT",
          "NC",
          "NE",
          "WI",
          "AL",
          "IL",
          "IN",
          "ME",
          "MS",
          "ND",
          "IA",
          "NM",
          "OH",
          "PA",
          "SD",
          "TN",
          "GA",
          "KS",
          "TX",
          "WV",
          "AK",
          "AR",
          "FL",
          "HI",
          "OK",
          "UT"
         ],
         "name": "",
         "type": "choropleth",
         "z": [
          3976.503845019884,
          5681.339818381169,
          8716.849949721405,
          3052.6028670669875,
          351.4294608274661,
          422.0171524758388,
          299.12199530425806,
          277.1508622554897,
          319.3265238660536,
          12103.594558460136,
          359.123400929182,
          18457.37681460788,
          12305.733323643151,
          5133.976639418155,
          8206.358099096491,
          9155.720852636523,
          477.03768819612344,
          12131.738408245978,
          372.4453151027984,
          4855.918481959524,
          355.55918393995915,
          12977.019737300505,
          7218.9284206191205,
          319.63954885411,
          12148.57415812011,
          3743.698566153787,
          3746.284228052775,
          9836.86616157894,
          9608.466824749668,
          6427.433658656978,
          11346.75862947561,
          5709.282771886943,
          347.90254167642104,
          7024.93467409847,
          15069.19797664819,
          311.20576030614853,
          256.3414756258233,
          5157.578136288551,
          6710.9200421555315
         ]
        }
       ],
       "layout": {
        "coloraxis": {
         "colorbar": {
          "title": {
           "text": "Avg. Annual Rate in USD"
          }
         },
         "colorscale": [
          [
           0,
           "#0d0887"
          ],
          [
           0.1111111111111111,
           "#46039f"
          ],
          [
           0.2222222222222222,
           "#7201a8"
          ],
          [
           0.3333333333333333,
           "#9c179e"
          ],
          [
           0.4444444444444444,
           "#bd3786"
          ],
          [
           0.5555555555555556,
           "#d8576b"
          ],
          [
           0.6666666666666666,
           "#ed7953"
          ],
          [
           0.7777777777777778,
           "#fb9f3a"
          ],
          [
           0.8888888888888888,
           "#fdca26"
          ],
          [
           1,
           "#f0f921"
          ]
         ]
        },
        "geo": {
         "center": {},
         "domain": {
          "x": [
           0,
           1
          ],
          "y": [
           0,
           1
          ]
         },
         "scope": "usa"
        },
        "legend": {
         "tracegroupgap": 0
        },
        "template": {
         "data": {
          "bar": [
           {
            "error_x": {
             "color": "#2a3f5f"
            },
            "error_y": {
             "color": "#2a3f5f"
            },
            "marker": {
             "line": {
              "color": "#E5ECF6",
              "width": 0.5
             },
             "pattern": {
              "fillmode": "overlay",
              "size": 10,
              "solidity": 0.2
             }
            },
            "type": "bar"
           }
          ],
          "barpolar": [
           {
            "marker": {
             "line": {
              "color": "#E5ECF6",
              "width": 0.5
             },
             "pattern": {
              "fillmode": "overlay",
              "size": 10,
              "solidity": 0.2
             }
            },
            "type": "barpolar"
           }
          ],
          "carpet": [
           {
            "aaxis": {
             "endlinecolor": "#2a3f5f",
             "gridcolor": "white",
             "linecolor": "white",
             "minorgridcolor": "white",
             "startlinecolor": "#2a3f5f"
            },
            "baxis": {
             "endlinecolor": "#2a3f5f",
             "gridcolor": "white",
             "linecolor": "white",
             "minorgridcolor": "white",
             "startlinecolor": "#2a3f5f"
            },
            "type": "carpet"
           }
          ],
          "choropleth": [
           {
            "colorbar": {
             "outlinewidth": 0,
             "ticks": ""
            },
            "type": "choropleth"
           }
          ],
          "contour": [
           {
            "colorbar": {
             "outlinewidth": 0,
             "ticks": ""
            },
            "colorscale": [
             [
              0,
              "#0d0887"
             ],
             [
              0.1111111111111111,
              "#46039f"
             ],
             [
              0.2222222222222222,
              "#7201a8"
             ],
             [
              0.3333333333333333,
              "#9c179e"
             ],
             [
              0.4444444444444444,
              "#bd3786"
             ],
             [
              0.5555555555555556,
              "#d8576b"
             ],
             [
              0.6666666666666666,
              "#ed7953"
             ],
             [
              0.7777777777777778,
              "#fb9f3a"
             ],
             [
              0.8888888888888888,
              "#fdca26"
             ],
             [
              1,
              "#f0f921"
             ]
            ],
            "type": "contour"
           }
          ],
          "contourcarpet": [
           {
            "colorbar": {
             "outlinewidth": 0,
             "ticks": ""
            },
            "type": "contourcarpet"
           }
          ],
          "heatmap": [
           {
            "colorbar": {
             "outlinewidth": 0,
             "ticks": ""
            },
            "colorscale": [
             [
              0,
              "#0d0887"
             ],
             [
              0.1111111111111111,
              "#46039f"
             ],
             [
              0.2222222222222222,
              "#7201a8"
             ],
             [
              0.3333333333333333,
              "#9c179e"
             ],
             [
              0.4444444444444444,
              "#bd3786"
             ],
             [
              0.5555555555555556,
              "#d8576b"
             ],
             [
              0.6666666666666666,
              "#ed7953"
             ],
             [
              0.7777777777777778,
              "#fb9f3a"
             ],
             [
              0.8888888888888888,
              "#fdca26"
             ],
             [
              1,
              "#f0f921"
             ]
            ],
            "type": "heatmap"
           }
          ],
          "heatmapgl": [
           {
            "colorbar": {
             "outlinewidth": 0,
             "ticks": ""
            },
            "colorscale": [
             [
              0,
              "#0d0887"
             ],
             [
              0.1111111111111111,
              "#46039f"
             ],
             [
              0.2222222222222222,
              "#7201a8"
             ],
             [
              0.3333333333333333,
              "#9c179e"
             ],
             [
              0.4444444444444444,
              "#bd3786"
             ],
             [
              0.5555555555555556,
              "#d8576b"
             ],
             [
              0.6666666666666666,
              "#ed7953"
             ],
             [
              0.7777777777777778,
              "#fb9f3a"
             ],
             [
              0.8888888888888888,
              "#fdca26"
             ],
             [
              1,
              "#f0f921"
             ]
            ],
            "type": "heatmapgl"
           }
          ],
          "histogram": [
           {
            "marker": {
             "pattern": {
              "fillmode": "overlay",
              "size": 10,
              "solidity": 0.2
             }
            },
            "type": "histogram"
           }
          ],
          "histogram2d": [
           {
            "colorbar": {
             "outlinewidth": 0,
             "ticks": ""
            },
            "colorscale": [
             [
              0,
              "#0d0887"
             ],
             [
              0.1111111111111111,
              "#46039f"
             ],
             [
              0.2222222222222222,
              "#7201a8"
             ],
             [
              0.3333333333333333,
              "#9c179e"
             ],
             [
              0.4444444444444444,
              "#bd3786"
             ],
             [
              0.5555555555555556,
              "#d8576b"
             ],
             [
              0.6666666666666666,
              "#ed7953"
             ],
             [
              0.7777777777777778,
              "#fb9f3a"
             ],
             [
              0.8888888888888888,
              "#fdca26"
             ],
             [
              1,
              "#f0f921"
             ]
            ],
            "type": "histogram2d"
           }
          ],
          "histogram2dcontour": [
           {
            "colorbar": {
             "outlinewidth": 0,
             "ticks": ""
            },
            "colorscale": [
             [
              0,
              "#0d0887"
             ],
             [
              0.1111111111111111,
              "#46039f"
             ],
             [
              0.2222222222222222,
              "#7201a8"
             ],
             [
              0.3333333333333333,
              "#9c179e"
             ],
             [
              0.4444444444444444,
              "#bd3786"
             ],
             [
              0.5555555555555556,
              "#d8576b"
             ],
             [
              0.6666666666666666,
              "#ed7953"
             ],
             [
              0.7777777777777778,
              "#fb9f3a"
             ],
             [
              0.8888888888888888,
              "#fdca26"
             ],
             [
              1,
              "#f0f921"
             ]
            ],
            "type": "histogram2dcontour"
           }
          ],
          "mesh3d": [
           {
            "colorbar": {
             "outlinewidth": 0,
             "ticks": ""
            },
            "type": "mesh3d"
           }
          ],
          "parcoords": [
           {
            "line": {
             "colorbar": {
              "outlinewidth": 0,
              "ticks": ""
             }
            },
            "type": "parcoords"
           }
          ],
          "pie": [
           {
            "automargin": true,
            "type": "pie"
           }
          ],
          "scatter": [
           {
            "marker": {
             "colorbar": {
              "outlinewidth": 0,
              "ticks": ""
             }
            },
            "type": "scatter"
           }
          ],
          "scatter3d": [
           {
            "line": {
             "colorbar": {
              "outlinewidth": 0,
              "ticks": ""
             }
            },
            "marker": {
             "colorbar": {
              "outlinewidth": 0,
              "ticks": ""
             }
            },
            "type": "scatter3d"
           }
          ],
          "scattercarpet": [
           {
            "marker": {
             "colorbar": {
              "outlinewidth": 0,
              "ticks": ""
             }
            },
            "type": "scattercarpet"
           }
          ],
          "scattergeo": [
           {
            "marker": {
             "colorbar": {
              "outlinewidth": 0,
              "ticks": ""
             }
            },
            "type": "scattergeo"
           }
          ],
          "scattergl": [
           {
            "marker": {
             "colorbar": {
              "outlinewidth": 0,
              "ticks": ""
             }
            },
            "type": "scattergl"
           }
          ],
          "scattermapbox": [
           {
            "marker": {
             "colorbar": {
              "outlinewidth": 0,
              "ticks": ""
             }
            },
            "type": "scattermapbox"
           }
          ],
          "scatterpolar": [
           {
            "marker": {
             "colorbar": {
              "outlinewidth": 0,
              "ticks": ""
             }
            },
            "type": "scatterpolar"
           }
          ],
          "scatterpolargl": [
           {
            "marker": {
             "colorbar": {
              "outlinewidth": 0,
              "ticks": ""
             }
            },
            "type": "scatterpolargl"
           }
          ],
          "scatterternary": [
           {
            "marker": {
             "colorbar": {
              "outlinewidth": 0,
              "ticks": ""
             }
            },
            "type": "scatterternary"
           }
          ],
          "surface": [
           {
            "colorbar": {
             "outlinewidth": 0,
             "ticks": ""
            },
            "colorscale": [
             [
              0,
              "#0d0887"
             ],
             [
              0.1111111111111111,
              "#46039f"
             ],
             [
              0.2222222222222222,
              "#7201a8"
             ],
             [
              0.3333333333333333,
              "#9c179e"
             ],
             [
              0.4444444444444444,
              "#bd3786"
             ],
             [
              0.5555555555555556,
              "#d8576b"
             ],
             [
              0.6666666666666666,
              "#ed7953"
             ],
             [
              0.7777777777777778,
              "#fb9f3a"
             ],
             [
              0.8888888888888888,
              "#fdca26"
             ],
             [
              1,
              "#f0f921"
             ]
            ],
            "type": "surface"
           }
          ],
          "table": [
           {
            "cells": {
             "fill": {
              "color": "#EBF0F8"
             },
             "line": {
              "color": "white"
             }
            },
            "header": {
             "fill": {
              "color": "#C8D4E3"
             },
             "line": {
              "color": "white"
             }
            },
            "type": "table"
           }
          ]
         },
         "layout": {
          "annotationdefaults": {
           "arrowcolor": "#2a3f5f",
           "arrowhead": 0,
           "arrowwidth": 1
          },
          "autotypenumbers": "strict",
          "coloraxis": {
           "colorbar": {
            "outlinewidth": 0,
            "ticks": ""
           }
          },
          "colorscale": {
           "diverging": [
            [
             0,
             "#8e0152"
            ],
            [
             0.1,
             "#c51b7d"
            ],
            [
             0.2,
             "#de77ae"
            ],
            [
             0.3,
             "#f1b6da"
            ],
            [
             0.4,
             "#fde0ef"
            ],
            [
             0.5,
             "#f7f7f7"
            ],
            [
             0.6,
             "#e6f5d0"
            ],
            [
             0.7,
             "#b8e186"
            ],
            [
             0.8,
             "#7fbc41"
            ],
            [
             0.9,
             "#4d9221"
            ],
            [
             1,
             "#276419"
            ]
           ],
           "sequential": [
            [
             0,
             "#0d0887"
            ],
            [
             0.1111111111111111,
             "#46039f"
            ],
            [
             0.2222222222222222,
             "#7201a8"
            ],
            [
             0.3333333333333333,
             "#9c179e"
            ],
            [
             0.4444444444444444,
             "#bd3786"
            ],
            [
             0.5555555555555556,
             "#d8576b"
            ],
            [
             0.6666666666666666,
             "#ed7953"
            ],
            [
             0.7777777777777778,
             "#fb9f3a"
            ],
            [
             0.8888888888888888,
             "#fdca26"
            ],
            [
             1,
             "#f0f921"
            ]
           ],
           "sequentialminus": [
            [
             0,
             "#0d0887"
            ],
            [
             0.1111111111111111,
             "#46039f"
            ],
            [
             0.2222222222222222,
             "#7201a8"
            ],
            [
             0.3333333333333333,
             "#9c179e"
            ],
            [
             0.4444444444444444,
             "#bd3786"
            ],
            [
             0.5555555555555556,
             "#d8576b"
            ],
            [
             0.6666666666666666,
             "#ed7953"
            ],
            [
             0.7777777777777778,
             "#fb9f3a"
            ],
            [
             0.8888888888888888,
             "#fdca26"
            ],
            [
             1,
             "#f0f921"
            ]
           ]
          },
          "colorway": [
           "#636efa",
           "#EF553B",
           "#00cc96",
           "#ab63fa",
           "#FFA15A",
           "#19d3f3",
           "#FF6692",
           "#B6E880",
           "#FF97FF",
           "#FECB52"
          ],
          "font": {
           "color": "#2a3f5f"
          },
          "geo": {
           "bgcolor": "white",
           "lakecolor": "white",
           "landcolor": "#E5ECF6",
           "showlakes": true,
           "showland": true,
           "subunitcolor": "white"
          },
          "hoverlabel": {
           "align": "left"
          },
          "hovermode": "closest",
          "mapbox": {
           "style": "light"
          },
          "paper_bgcolor": "white",
          "plot_bgcolor": "#E5ECF6",
          "polar": {
           "angularaxis": {
            "gridcolor": "white",
            "linecolor": "white",
            "ticks": ""
           },
           "bgcolor": "#E5ECF6",
           "radialaxis": {
            "gridcolor": "white",
            "linecolor": "white",
            "ticks": ""
           }
          },
          "scene": {
           "xaxis": {
            "backgroundcolor": "#E5ECF6",
            "gridcolor": "white",
            "gridwidth": 2,
            "linecolor": "white",
            "showbackground": true,
            "ticks": "",
            "zerolinecolor": "white"
           },
           "yaxis": {
            "backgroundcolor": "#E5ECF6",
            "gridcolor": "white",
            "gridwidth": 2,
            "linecolor": "white",
            "showbackground": true,
            "ticks": "",
            "zerolinecolor": "white"
           },
           "zaxis": {
            "backgroundcolor": "#E5ECF6",
            "gridcolor": "white",
            "gridwidth": 2,
            "linecolor": "white",
            "showbackground": true,
            "ticks": "",
            "zerolinecolor": "white"
           }
          },
          "shapedefaults": {
           "line": {
            "color": "#2a3f5f"
           }
          },
          "ternary": {
           "aaxis": {
            "gridcolor": "white",
            "linecolor": "white",
            "ticks": ""
           },
           "baxis": {
            "gridcolor": "white",
            "linecolor": "white",
            "ticks": ""
           },
           "bgcolor": "#E5ECF6",
           "caxis": {
            "gridcolor": "white",
            "linecolor": "white",
            "ticks": ""
           }
          },
          "title": {
           "x": 0.05
          },
          "xaxis": {
           "automargin": true,
           "gridcolor": "white",
           "linecolor": "white",
           "ticks": "",
           "title": {
            "standoff": 15
           },
           "zerolinecolor": "white",
           "zerolinewidth": 2
          },
          "yaxis": {
           "automargin": true,
           "gridcolor": "white",
           "linecolor": "white",
           "ticks": "",
           "title": {
            "standoff": 15
           },
           "zerolinecolor": "white",
           "zerolinewidth": 2
          }
         }
        },
        "title": {
         "text": "Average Annual Insurance Rate across States"
        }
       }
      },
      "text/html": [
       "<div>                            <div id=\"eb2b2f1e-7200-4b14-bf88-baf2ae004f80\" class=\"plotly-graph-div\" style=\"height:525px; width:100%;\"></div>            <script type=\"text/javascript\">                require([\"plotly\"], function(Plotly) {                    window.PLOTLYENV=window.PLOTLYENV || {};                                    if (document.getElementById(\"eb2b2f1e-7200-4b14-bf88-baf2ae004f80\")) {                    Plotly.newPlot(                        \"eb2b2f1e-7200-4b14-bf88-baf2ae004f80\",                        [{\"coloraxis\":\"coloraxis\",\"geo\":\"geo\",\"hovertemplate\":\"locations=%{location}<br>Avg. Annual Rate in USD=%{z}<extra></extra>\",\"locationmode\":\"USA-states\",\"locations\":[\"AZ\",\"SC\",\"LA\",\"MI\",\"NH\",\"NJ\",\"NV\",\"OR\",\"VA\",\"WY\",\"DE\",\"ID\",\"MO\",\"MT\",\"NC\",\"NE\",\"WI\",\"AL\",\"IL\",\"IN\",\"ME\",\"MS\",\"ND\",\"IA\",\"NM\",\"OH\",\"PA\",\"SD\",\"TN\",\"GA\",\"KS\",\"TX\",\"WV\",\"AK\",\"AR\",\"FL\",\"HI\",\"OK\",\"UT\"],\"name\":\"\",\"z\":[3976.503845019884,5681.339818381169,8716.849949721405,3052.6028670669875,351.4294608274661,422.0171524758388,299.12199530425806,277.1508622554897,319.3265238660536,12103.594558460136,359.123400929182,18457.37681460788,12305.733323643151,5133.976639418155,8206.358099096491,9155.720852636523,477.03768819612344,12131.738408245978,372.4453151027984,4855.918481959524,355.55918393995915,12977.019737300505,7218.9284206191205,319.63954885411,12148.57415812011,3743.698566153787,3746.284228052775,9836.86616157894,9608.466824749668,6427.433658656978,11346.75862947561,5709.282771886943,347.90254167642104,7024.93467409847,15069.19797664819,311.20576030614853,256.3414756258233,5157.578136288551,6710.9200421555315],\"type\":\"choropleth\"}],                        {\"template\":{\"data\":{\"bar\":[{\"error_x\":{\"color\":\"#2a3f5f\"},\"error_y\":{\"color\":\"#2a3f5f\"},\"marker\":{\"line\":{\"color\":\"#E5ECF6\",\"width\":0.5},\"pattern\":{\"fillmode\":\"overlay\",\"size\":10,\"solidity\":0.2}},\"type\":\"bar\"}],\"barpolar\":[{\"marker\":{\"line\":{\"color\":\"#E5ECF6\",\"width\":0.5},\"pattern\":{\"fillmode\":\"overlay\",\"size\":10,\"solidity\":0.2}},\"type\":\"barpolar\"}],\"carpet\":[{\"aaxis\":{\"endlinecolor\":\"#2a3f5f\",\"gridcolor\":\"white\",\"linecolor\":\"white\",\"minorgridcolor\":\"white\",\"startlinecolor\":\"#2a3f5f\"},\"baxis\":{\"endlinecolor\":\"#2a3f5f\",\"gridcolor\":\"white\",\"linecolor\":\"white\",\"minorgridcolor\":\"white\",\"startlinecolor\":\"#2a3f5f\"},\"type\":\"carpet\"}],\"choropleth\":[{\"colorbar\":{\"outlinewidth\":0,\"ticks\":\"\"},\"type\":\"choropleth\"}],\"contour\":[{\"colorbar\":{\"outlinewidth\":0,\"ticks\":\"\"},\"colorscale\":[[0.0,\"#0d0887\"],[0.1111111111111111,\"#46039f\"],[0.2222222222222222,\"#7201a8\"],[0.3333333333333333,\"#9c179e\"],[0.4444444444444444,\"#bd3786\"],[0.5555555555555556,\"#d8576b\"],[0.6666666666666666,\"#ed7953\"],[0.7777777777777778,\"#fb9f3a\"],[0.8888888888888888,\"#fdca26\"],[1.0,\"#f0f921\"]],\"type\":\"contour\"}],\"contourcarpet\":[{\"colorbar\":{\"outlinewidth\":0,\"ticks\":\"\"},\"type\":\"contourcarpet\"}],\"heatmap\":[{\"colorbar\":{\"outlinewidth\":0,\"ticks\":\"\"},\"colorscale\":[[0.0,\"#0d0887\"],[0.1111111111111111,\"#46039f\"],[0.2222222222222222,\"#7201a8\"],[0.3333333333333333,\"#9c179e\"],[0.4444444444444444,\"#bd3786\"],[0.5555555555555556,\"#d8576b\"],[0.6666666666666666,\"#ed7953\"],[0.7777777777777778,\"#fb9f3a\"],[0.8888888888888888,\"#fdca26\"],[1.0,\"#f0f921\"]],\"type\":\"heatmap\"}],\"heatmapgl\":[{\"colorbar\":{\"outlinewidth\":0,\"ticks\":\"\"},\"colorscale\":[[0.0,\"#0d0887\"],[0.1111111111111111,\"#46039f\"],[0.2222222222222222,\"#7201a8\"],[0.3333333333333333,\"#9c179e\"],[0.4444444444444444,\"#bd3786\"],[0.5555555555555556,\"#d8576b\"],[0.6666666666666666,\"#ed7953\"],[0.7777777777777778,\"#fb9f3a\"],[0.8888888888888888,\"#fdca26\"],[1.0,\"#f0f921\"]],\"type\":\"heatmapgl\"}],\"histogram\":[{\"marker\":{\"pattern\":{\"fillmode\":\"overlay\",\"size\":10,\"solidity\":0.2}},\"type\":\"histogram\"}],\"histogram2d\":[{\"colorbar\":{\"outlinewidth\":0,\"ticks\":\"\"},\"colorscale\":[[0.0,\"#0d0887\"],[0.1111111111111111,\"#46039f\"],[0.2222222222222222,\"#7201a8\"],[0.3333333333333333,\"#9c179e\"],[0.4444444444444444,\"#bd3786\"],[0.5555555555555556,\"#d8576b\"],[0.6666666666666666,\"#ed7953\"],[0.7777777777777778,\"#fb9f3a\"],[0.8888888888888888,\"#fdca26\"],[1.0,\"#f0f921\"]],\"type\":\"histogram2d\"}],\"histogram2dcontour\":[{\"colorbar\":{\"outlinewidth\":0,\"ticks\":\"\"},\"colorscale\":[[0.0,\"#0d0887\"],[0.1111111111111111,\"#46039f\"],[0.2222222222222222,\"#7201a8\"],[0.3333333333333333,\"#9c179e\"],[0.4444444444444444,\"#bd3786\"],[0.5555555555555556,\"#d8576b\"],[0.6666666666666666,\"#ed7953\"],[0.7777777777777778,\"#fb9f3a\"],[0.8888888888888888,\"#fdca26\"],[1.0,\"#f0f921\"]],\"type\":\"histogram2dcontour\"}],\"mesh3d\":[{\"colorbar\":{\"outlinewidth\":0,\"ticks\":\"\"},\"type\":\"mesh3d\"}],\"parcoords\":[{\"line\":{\"colorbar\":{\"outlinewidth\":0,\"ticks\":\"\"}},\"type\":\"parcoords\"}],\"pie\":[{\"automargin\":true,\"type\":\"pie\"}],\"scatter\":[{\"marker\":{\"colorbar\":{\"outlinewidth\":0,\"ticks\":\"\"}},\"type\":\"scatter\"}],\"scatter3d\":[{\"line\":{\"colorbar\":{\"outlinewidth\":0,\"ticks\":\"\"}},\"marker\":{\"colorbar\":{\"outlinewidth\":0,\"ticks\":\"\"}},\"type\":\"scatter3d\"}],\"scattercarpet\":[{\"marker\":{\"colorbar\":{\"outlinewidth\":0,\"ticks\":\"\"}},\"type\":\"scattercarpet\"}],\"scattergeo\":[{\"marker\":{\"colorbar\":{\"outlinewidth\":0,\"ticks\":\"\"}},\"type\":\"scattergeo\"}],\"scattergl\":[{\"marker\":{\"colorbar\":{\"outlinewidth\":0,\"ticks\":\"\"}},\"type\":\"scattergl\"}],\"scattermapbox\":[{\"marker\":{\"colorbar\":{\"outlinewidth\":0,\"ticks\":\"\"}},\"type\":\"scattermapbox\"}],\"scatterpolar\":[{\"marker\":{\"colorbar\":{\"outlinewidth\":0,\"ticks\":\"\"}},\"type\":\"scatterpolar\"}],\"scatterpolargl\":[{\"marker\":{\"colorbar\":{\"outlinewidth\":0,\"ticks\":\"\"}},\"type\":\"scatterpolargl\"}],\"scatterternary\":[{\"marker\":{\"colorbar\":{\"outlinewidth\":0,\"ticks\":\"\"}},\"type\":\"scatterternary\"}],\"surface\":[{\"colorbar\":{\"outlinewidth\":0,\"ticks\":\"\"},\"colorscale\":[[0.0,\"#0d0887\"],[0.1111111111111111,\"#46039f\"],[0.2222222222222222,\"#7201a8\"],[0.3333333333333333,\"#9c179e\"],[0.4444444444444444,\"#bd3786\"],[0.5555555555555556,\"#d8576b\"],[0.6666666666666666,\"#ed7953\"],[0.7777777777777778,\"#fb9f3a\"],[0.8888888888888888,\"#fdca26\"],[1.0,\"#f0f921\"]],\"type\":\"surface\"}],\"table\":[{\"cells\":{\"fill\":{\"color\":\"#EBF0F8\"},\"line\":{\"color\":\"white\"}},\"header\":{\"fill\":{\"color\":\"#C8D4E3\"},\"line\":{\"color\":\"white\"}},\"type\":\"table\"}]},\"layout\":{\"annotationdefaults\":{\"arrowcolor\":\"#2a3f5f\",\"arrowhead\":0,\"arrowwidth\":1},\"autotypenumbers\":\"strict\",\"coloraxis\":{\"colorbar\":{\"outlinewidth\":0,\"ticks\":\"\"}},\"colorscale\":{\"diverging\":[[0,\"#8e0152\"],[0.1,\"#c51b7d\"],[0.2,\"#de77ae\"],[0.3,\"#f1b6da\"],[0.4,\"#fde0ef\"],[0.5,\"#f7f7f7\"],[0.6,\"#e6f5d0\"],[0.7,\"#b8e186\"],[0.8,\"#7fbc41\"],[0.9,\"#4d9221\"],[1,\"#276419\"]],\"sequential\":[[0.0,\"#0d0887\"],[0.1111111111111111,\"#46039f\"],[0.2222222222222222,\"#7201a8\"],[0.3333333333333333,\"#9c179e\"],[0.4444444444444444,\"#bd3786\"],[0.5555555555555556,\"#d8576b\"],[0.6666666666666666,\"#ed7953\"],[0.7777777777777778,\"#fb9f3a\"],[0.8888888888888888,\"#fdca26\"],[1.0,\"#f0f921\"]],\"sequentialminus\":[[0.0,\"#0d0887\"],[0.1111111111111111,\"#46039f\"],[0.2222222222222222,\"#7201a8\"],[0.3333333333333333,\"#9c179e\"],[0.4444444444444444,\"#bd3786\"],[0.5555555555555556,\"#d8576b\"],[0.6666666666666666,\"#ed7953\"],[0.7777777777777778,\"#fb9f3a\"],[0.8888888888888888,\"#fdca26\"],[1.0,\"#f0f921\"]]},\"colorway\":[\"#636efa\",\"#EF553B\",\"#00cc96\",\"#ab63fa\",\"#FFA15A\",\"#19d3f3\",\"#FF6692\",\"#B6E880\",\"#FF97FF\",\"#FECB52\"],\"font\":{\"color\":\"#2a3f5f\"},\"geo\":{\"bgcolor\":\"white\",\"lakecolor\":\"white\",\"landcolor\":\"#E5ECF6\",\"showlakes\":true,\"showland\":true,\"subunitcolor\":\"white\"},\"hoverlabel\":{\"align\":\"left\"},\"hovermode\":\"closest\",\"mapbox\":{\"style\":\"light\"},\"paper_bgcolor\":\"white\",\"plot_bgcolor\":\"#E5ECF6\",\"polar\":{\"angularaxis\":{\"gridcolor\":\"white\",\"linecolor\":\"white\",\"ticks\":\"\"},\"bgcolor\":\"#E5ECF6\",\"radialaxis\":{\"gridcolor\":\"white\",\"linecolor\":\"white\",\"ticks\":\"\"}},\"scene\":{\"xaxis\":{\"backgroundcolor\":\"#E5ECF6\",\"gridcolor\":\"white\",\"gridwidth\":2,\"linecolor\":\"white\",\"showbackground\":true,\"ticks\":\"\",\"zerolinecolor\":\"white\"},\"yaxis\":{\"backgroundcolor\":\"#E5ECF6\",\"gridcolor\":\"white\",\"gridwidth\":2,\"linecolor\":\"white\",\"showbackground\":true,\"ticks\":\"\",\"zerolinecolor\":\"white\"},\"zaxis\":{\"backgroundcolor\":\"#E5ECF6\",\"gridcolor\":\"white\",\"gridwidth\":2,\"linecolor\":\"white\",\"showbackground\":true,\"ticks\":\"\",\"zerolinecolor\":\"white\"}},\"shapedefaults\":{\"line\":{\"color\":\"#2a3f5f\"}},\"ternary\":{\"aaxis\":{\"gridcolor\":\"white\",\"linecolor\":\"white\",\"ticks\":\"\"},\"baxis\":{\"gridcolor\":\"white\",\"linecolor\":\"white\",\"ticks\":\"\"},\"bgcolor\":\"#E5ECF6\",\"caxis\":{\"gridcolor\":\"white\",\"linecolor\":\"white\",\"ticks\":\"\"}},\"title\":{\"x\":0.05},\"xaxis\":{\"automargin\":true,\"gridcolor\":\"white\",\"linecolor\":\"white\",\"ticks\":\"\",\"title\":{\"standoff\":15},\"zerolinecolor\":\"white\",\"zerolinewidth\":2},\"yaxis\":{\"automargin\":true,\"gridcolor\":\"white\",\"linecolor\":\"white\",\"ticks\":\"\",\"title\":{\"standoff\":15},\"zerolinecolor\":\"white\",\"zerolinewidth\":2}}},\"geo\":{\"domain\":{\"x\":[0.0,1.0],\"y\":[0.0,1.0]},\"center\":{},\"scope\":\"usa\"},\"coloraxis\":{\"colorbar\":{\"title\":{\"text\":\"Avg. Annual Rate in USD\"}},\"colorscale\":[[0.0,\"#0d0887\"],[0.1111111111111111,\"#46039f\"],[0.2222222222222222,\"#7201a8\"],[0.3333333333333333,\"#9c179e\"],[0.4444444444444444,\"#bd3786\"],[0.5555555555555556,\"#d8576b\"],[0.6666666666666666,\"#ed7953\"],[0.7777777777777778,\"#fb9f3a\"],[0.8888888888888888,\"#fdca26\"],[1.0,\"#f0f921\"]]},\"legend\":{\"tracegroupgap\":0},\"title\":{\"text\":\"Average Annual Insurance Rate across States\"}},                        {\"responsive\": true}                    ).then(function(){\n",
       "                            \n",
       "var gd = document.getElementById('eb2b2f1e-7200-4b14-bf88-baf2ae004f80');\n",
       "var x = new MutationObserver(function (mutations, observer) {{\n",
       "        var display = window.getComputedStyle(gd).display;\n",
       "        if (!display || display === 'none') {{\n",
       "            console.log([gd, 'removed!']);\n",
       "            Plotly.purge(gd);\n",
       "            observer.disconnect();\n",
       "        }}\n",
       "}});\n",
       "\n",
       "// Listen for the removal of the full notebook cells\n",
       "var notebookContainer = gd.closest('#notebook-container');\n",
       "if (notebookContainer) {{\n",
       "    x.observe(notebookContainer, {childList: true});\n",
       "}}\n",
       "\n",
       "// Listen for the clearing of the current output cell\n",
       "var outputEl = gd.closest('.output');\n",
       "if (outputEl) {{\n",
       "    x.observe(outputEl, {childList: true});\n",
       "}}\n",
       "\n",
       "                        })                };                });            </script>        </div>"
      ]
     },
     "metadata": {},
     "output_type": "display_data"
    }
   ],
   "source": [
    "import plotly.express as px\n",
    "fig = px.choropleth(locations=states, locationmode=\"USA-states\", color=average_rates, scope=\"usa\", title=\"Average Annual Insurance Rate across States\", labels={'color':'Avg. Annual Rate in USD'})\n",
    "fig.show()"
   ]
  },
  {
   "cell_type": "markdown",
   "id": "6964c408-71af-4b17-9956-05d234bb359e",
   "metadata": {},
   "source": [
    "## Part II - Analysis of plan benefits across the states"
   ]
  },
  {
   "cell_type": "code",
   "execution_count": 39,
   "id": "7b1bb677-8ac1-4000-acbb-47998146e84a",
   "metadata": {},
   "outputs": [
    {
     "name": "stderr",
     "output_type": "stream",
     "text": [
      "                                                                                \r"
     ]
    }
   ],
   "source": [
    "ins = spark.read.option(\"header\",True) \\\n",
    ".option(\"inferSchema\", True) \\\n",
    ".csv(\"data/BenefitsCostSharing.csv\")"
   ]
  },
  {
   "cell_type": "code",
   "execution_count": 55,
   "id": "170ee0af-31d9-4aa2-867f-4ff24cb59ed0",
   "metadata": {},
   "outputs": [
    {
     "name": "stdout",
     "output_type": "stream",
     "text": [
      "+--------------------+------------+-------------+-------------+-------------+-------------+-------------+-------------+--------------------+----------+--------------------+-------------------+---------+-----+-----------------+-----------------+--------------+----------------+----------------+--------+---------+--------+--------------------+-----------+-----------------+---------------+---------+----------+-------------------+---------+----------+----------+\n",
      "|         BenefitName|BusinessYear|CoinsInnTier1|CoinsInnTier2|CoinsOutofNet|CopayInnTier1|CopayInnTier2|CopayOutofNet|        EHBVarReason|Exclusions|         Explanation|         ImportDate|IsCovered|IsEHB|IsExclFromInnMOOP|IsExclFromOonMOOP|IsStateMandate|IsSubjToDedTier1|IsSubjToDedTier2|IssuerId|IssuerId2|LimitQty|           LimitUnit|MinimumStay|           PlanId|QuantLimitOnSvc|RowNumber|SourceName|StandardComponentId|StateCode|StateCode2|VersionNum|\n",
      "+--------------------+------------+-------------+-------------+-------------+-------------+-------------+-------------+--------------------+----------+--------------------+-------------------+---------+-----+-----------------+-----------------+--------------+----------------+----------------+--------+---------+--------+--------------------+-----------+-----------------+---------------+---------+----------+-------------------+---------+----------+----------+\n",
      "|Routine Dental Se...|        2014|          20%|         null|          20%|    No Charge|         null|    No Charge|           Above EHB|      null|Combined annual b...|2014-03-19 07:06:49|  Covered| null|               No|               No|          null|              No|              No|   21989|    21989|  1000.0|    Dollars per Year|       null|21989AK0010001-00|            Yes|       68|      HIOS|     21989AK0010001|       AK|        AK|         6|\n",
      "|Dental Check-Up f...|        2014|          20%|         null|          20%|    No Charge|         null|    No Charge| Substantially Equal|      null|See policy for ad...|2014-03-19 07:06:49|  Covered|  Yes|               No|               No|          null|              No|              No|   21989|    21989|     1.0|Visit(s) per 6 Mo...|       null|21989AK0010001-00|            Yes|      104|      HIOS|     21989AK0010001|       AK|        AK|         6|\n",
      "|Basic Dental Care...|        2014|          40%|         null|          40%|    No Charge|         null|    No Charge| Substantially Equal|      null|See policy for ad...|2014-03-19 07:06:49|  Covered|  Yes|               No|               No|          null|             Yes|             Yes|   21989|    21989|    null|                null|       null|21989AK0010001-00|           null|      110|      HIOS|     21989AK0010001|       AK|        AK|         6|\n",
      "| Orthodontia - Child|        2014|          50%|         null|          50%|    No Charge|         null|    No Charge|Additional EHB Be...|      null|24 month waiting ...|2014-03-19 07:06:49|  Covered| null|               No|               No|          null|             Yes|             Yes|   21989|    21989|    null|                null|       null|21989AK0010001-00|           null|      111|      HIOS|     21989AK0010001|       AK|        AK|         6|\n",
      "|Major Dental Care...|        2014|          50%|         null|          50%|    No Charge|         null|    No Charge| Substantially Equal|      null|See policy for ad...|2014-03-19 07:06:49|  Covered|  Yes|               No|               No|          null|             Yes|             Yes|   21989|    21989|    null|                null|       null|21989AK0010001-00|           null|      112|      HIOS|     21989AK0010001|       AK|        AK|         6|\n",
      "+--------------------+------------+-------------+-------------+-------------+-------------+-------------+-------------+--------------------+----------+--------------------+-------------------+---------+-----+-----------------+-----------------+--------------+----------------+----------------+--------+---------+--------+--------------------+-----------+-----------------+---------------+---------+----------+-------------------+---------+----------+----------+\n",
      "only showing top 5 rows\n",
      "\n"
     ]
    },
    {
     "name": "stderr",
     "output_type": "stream",
     "text": [
      "21/12/14 05:28:58 WARN package: Truncated the string representation of a plan since it was too large. This behavior can be adjusted by setting 'spark.sql.debug.maxToStringFields'.\n"
     ]
    }
   ],
   "source": [
    "ins.show(5)"
   ]
  },
  {
   "cell_type": "code",
   "execution_count": 40,
   "id": "63ec7067-792f-4b10-bac0-5f8c9945a7da",
   "metadata": {},
   "outputs": [
    {
     "name": "stderr",
     "output_type": "stream",
     "text": [
      "21/12/17 01:41:12 WARN package: Truncated the string representation of a plan since it was too large. This behavior can be adjusted by setting 'spark.sql.debug.maxToStringFields'.\n",
      "[Stage 53:==================================>                      (6 + 4) / 10]\r"
     ]
    },
    {
     "name": "stdout",
     "output_type": "stream",
     "text": [
      "+--------------------+------------+-----+\n",
      "|         BenefitName|BusinessYear|count|\n",
      "+--------------------+------------+-----+\n",
      "|Non-Preferred Gen...|        2014|  213|\n",
      "|Space Maintainers...|        2014|   32|\n",
      "| Tissue Conditioning|        2014|   13|\n",
      "|   Cochlear Implants|        2014|  742|\n",
      "|     Enteral Formula|        2014|   12|\n",
      "+--------------------+------------+-----+\n",
      "only showing top 5 rows\n",
      "\n"
     ]
    },
    {
     "name": "stderr",
     "output_type": "stream",
     "text": [
      "                                                                                \r"
     ]
    }
   ],
   "source": [
    "# Let us try to find out the count of each health insurance benefit per year\n",
    "ins.createOrReplaceTempView (\"Benefits\")\n",
    "benefits_per_year = spark.sql(\"SELECT BenefitName, BusinessYear, count(BenefitName) as count from Benefits GROUP BY BenefitName, BusinessYear\")\n",
    "benefits_per_year.show(5)"
   ]
  },
  {
   "cell_type": "code",
   "execution_count": 41,
   "id": "d363bcd3-9a27-4310-8176-52e26f580aa2",
   "metadata": {},
   "outputs": [
    {
     "name": "stderr",
     "output_type": "stream",
     "text": [
      "[Stage 56:==================================>                      (6 + 4) / 10]\r"
     ]
    },
    {
     "name": "stdout",
     "output_type": "stream",
     "text": [
      "+--------------------+-----+\n",
      "|         BenefitName|count|\n",
      "+--------------------+-----+\n",
      "| Orthodontia - Child|18719|\n",
      "|Basic Dental Care...|18719|\n",
      "|Major Dental Care...|18719|\n",
      "| Orthodontia - Adult|18719|\n",
      "|   Accidental Dental|18719|\n",
      "+--------------------+-----+\n",
      "only showing top 5 rows\n",
      "\n"
     ]
    },
    {
     "name": "stderr",
     "output_type": "stream",
     "text": [
      "                                                                                \r"
     ]
    }
   ],
   "source": [
    "benefits_per_year.createOrReplaceTempView (\"benefits_per_year\")\n",
    "#Find out the top 5 health insurance benefits availed in the year 2014\n",
    "benefits_2014 = spark.sql(\"SELECT BenefitName, count from benefits_per_year Where BusinessYear='2014' ORDER BY count DESC\")\n",
    "benefits_2014.show(5)"
   ]
  },
  {
   "cell_type": "code",
   "execution_count": 42,
   "id": "a104301d-ac28-422e-b587-c65d40420d88",
   "metadata": {},
   "outputs": [
    {
     "name": "stderr",
     "output_type": "stream",
     "text": [
      "[Stage 59:==================================>                      (6 + 4) / 10]\r"
     ]
    },
    {
     "name": "stdout",
     "output_type": "stream",
     "text": [
      "+--------------------+-----+\n",
      "|         BenefitName|count|\n",
      "+--------------------+-----+\n",
      "| Orthodontia - Adult|31269|\n",
      "|Major Dental Care...|31253|\n",
      "|Dental Check-Up f...|31253|\n",
      "|Routine Dental Se...|31253|\n",
      "|   Accidental Dental|31253|\n",
      "+--------------------+-----+\n",
      "only showing top 5 rows\n",
      "\n"
     ]
    },
    {
     "name": "stderr",
     "output_type": "stream",
     "text": [
      "                                                                                \r"
     ]
    }
   ],
   "source": [
    "#Find out the top 5 benefits in the year 2015\n",
    "benefits_2015 = spark.sql(\"SELECT BenefitName, count from benefits_per_year where BusinessYear = '2015' ORDER BY count DESC\")\n",
    "benefits_2015.show(5)"
   ]
  },
  {
   "cell_type": "code",
   "execution_count": 43,
   "id": "2da79a41-b660-468a-b44b-2209562cb442",
   "metadata": {},
   "outputs": [
    {
     "name": "stderr",
     "output_type": "stream",
     "text": [
      "[Stage 62:==================================>                      (6 + 4) / 10]\r"
     ]
    },
    {
     "name": "stdout",
     "output_type": "stream",
     "text": [
      "+--------------------+-----+\n",
      "|         BenefitName|count|\n",
      "+--------------------+-----+\n",
      "| Orthodontia - Adult|27389|\n",
      "|Routine Dental Se...|27381|\n",
      "|   Accidental Dental|27381|\n",
      "|Dental Check-Up f...|27381|\n",
      "|Basic Dental Care...|27381|\n",
      "+--------------------+-----+\n",
      "only showing top 5 rows\n",
      "\n"
     ]
    },
    {
     "name": "stderr",
     "output_type": "stream",
     "text": [
      "                                                                                \r"
     ]
    }
   ],
   "source": [
    "#Find out the top 5 benefits in the year 2016\n",
    "benefits_2016 = spark.sql(\"SELECT BenefitName, count from benefits_per_year where BusinessYear = '2016' ORDER BY count DESC\")\n",
    "benefits_2016.show(5)"
   ]
  },
  {
   "cell_type": "code",
   "execution_count": 44,
   "id": "04cf356b-0dd0-443e-a413-3aa12ed64538",
   "metadata": {
    "jupyter": {
     "outputs_hidden": true
    },
    "scrolled": true,
    "tags": []
   },
   "outputs": [
    {
     "name": "stderr",
     "output_type": "stream",
     "text": [
      "                                                                                \r"
     ]
    },
    {
     "data": {
      "text/plain": [
       "[Row(StateCode='AZ'),\n",
       " Row(StateCode='SC'),\n",
       " Row(StateCode='LA'),\n",
       " Row(StateCode='NJ'),\n",
       " Row(StateCode='NC'),\n",
       " Row(StateCode='MO'),\n",
       " Row(StateCode='ND'),\n",
       " Row(StateCode='MS'),\n",
       " Row(StateCode='AL'),\n",
       " Row(StateCode='IN'),\n",
       " Row(StateCode='TN'),\n",
       " Row(StateCode='PA'),\n",
       " Row(StateCode='HIOS'),\n",
       " Row(StateCode='GA'),\n",
       " Row(StateCode='FL'),\n",
       " Row(StateCode='AK'),\n",
       " Row(StateCode='OK'),\n",
       " Row(StateCode='VA'),\n",
       " Row(StateCode='WY'),\n",
       " Row(StateCode='NH'),\n",
       " Row(StateCode='MI'),\n",
       " Row(StateCode='WI'),\n",
       " Row(StateCode='ID'),\n",
       " Row(StateCode='NE'),\n",
       " Row(StateCode='MT'),\n",
       " Row(StateCode='DE'),\n",
       " Row(StateCode='IL'),\n",
       " Row(StateCode='ME'),\n",
       " Row(StateCode='OH'),\n",
       " Row(StateCode='NM'),\n",
       " Row(StateCode='IA'),\n",
       " Row(StateCode='No'),\n",
       " Row(StateCode='TX'),\n",
       " Row(StateCode='WV'),\n",
       " Row(StateCode='KS'),\n",
       " Row(StateCode='AR'),\n",
       " Row(StateCode='89942GA0050003'),\n",
       " Row(StateCode='89942GA0050002'),\n",
       " Row(StateCode='89942GA0050005'),\n",
       " Row(StateCode='89942GA0050004'),\n",
       " Row(StateCode='89942GA0050012'),\n",
       " Row(StateCode='SD'),\n",
       " Row(StateCode='89942GA0050007'),\n",
       " Row(StateCode='UT'),\n",
       " Row(StateCode='OR'),\n",
       " Row(StateCode='NV'),\n",
       " Row(StateCode='128'),\n",
       " Row(StateCode='99734OH0020018'),\n",
       " Row(StateCode='99734OH0050008'),\n",
       " Row(StateCode='99734OH0020017'),\n",
       " Row(StateCode='99734OH0020015'),\n",
       " Row(StateCode='99734OH0010015'),\n",
       " Row(StateCode='99734OH0020019'),\n",
       " Row(StateCode='99734OH0020016'),\n",
       " Row(StateCode='99734OH0040006'),\n",
       " Row(StateCode='99734OH0040005'),\n",
       " Row(StateCode='99734OH0050005'),\n",
       " Row(StateCode='99734OH0050006'),\n",
       " Row(StateCode='SERFF'),\n",
       " Row(StateCode='99734OH0020014'),\n",
       " Row(StateCode='99734OH0010014'),\n",
       " Row(StateCode='99734OH0020020'),\n",
       " Row(StateCode='99734OH0050007'),\n",
       " Row(StateCode='99734OH0020013'),\n",
       " Row(StateCode='14002TN0190091'),\n",
       " Row(StateCode='14002TN0330074'),\n",
       " Row(StateCode='14002TN0190083'),\n",
       " Row(StateCode='14002TN0330063'),\n",
       " Row(StateCode='14002TN0190107'),\n",
       " Row(StateCode='14002TN0190090'),\n",
       " Row(StateCode='14002TN0330064'),\n",
       " Row(StateCode='14002TN0190105'),\n",
       " Row(StateCode='14002TN0190100'),\n",
       " Row(StateCode='14002TN0330057'),\n",
       " Row(StateCode='14002TN0190071'),\n",
       " Row(StateCode='14002TN0330022'),\n",
       " Row(StateCode='14002TN0190095'),\n",
       " Row(StateCode='14002TN0330058'),\n",
       " Row(StateCode='14002TN0330003'),\n",
       " Row(StateCode='14002TN0190097'),\n",
       " Row(StateCode='14002TN0330073'),\n",
       " Row(StateCode='14002TN0330020'),\n",
       " Row(StateCode='14002TN0330059'),\n",
       " Row(StateCode='14002TN0330010'),\n",
       " Row(StateCode='14002TN0330046'),\n",
       " Row(StateCode='14002TN0330053'),\n",
       " Row(StateCode='14002TN0190082'),\n",
       " Row(StateCode='14002TN0190102'),\n",
       " Row(StateCode='14002TN0330028'),\n",
       " Row(StateCode='14002TN0190076'),\n",
       " Row(StateCode='14002TN0330018'),\n",
       " Row(StateCode='14002TN0330047'),\n",
       " Row(StateCode='14002TN0330040'),\n",
       " Row(StateCode='14002TN0330075'),\n",
       " Row(StateCode='14002TN0330042'),\n",
       " Row(StateCode='14002TN0330067'),\n",
       " Row(StateCode='14002TN0330070'),\n",
       " Row(StateCode='14002TN0190098'),\n",
       " Row(StateCode='14002TN0190093'),\n",
       " Row(StateCode='14002TN0190087'),\n",
       " Row(StateCode='14002TN0330017'),\n",
       " Row(StateCode='14002TN0330016'),\n",
       " Row(StateCode='14002TN0190067'),\n",
       " Row(StateCode='14002TN0330005'),\n",
       " Row(StateCode='14002TN0330049'),\n",
       " Row(StateCode='14002TN0190109'),\n",
       " Row(StateCode='14002TN0190073'),\n",
       " Row(StateCode='14002TN0190103'),\n",
       " Row(StateCode='14002TN0330011'),\n",
       " Row(StateCode='14002TN0190075'),\n",
       " Row(StateCode='14002TN0190081'),\n",
       " Row(StateCode='14002TN0190089'),\n",
       " Row(StateCode='14002TN0330071'),\n",
       " Row(StateCode='14002TN0190080'),\n",
       " Row(StateCode='14002TN0190088'),\n",
       " Row(StateCode='14002TN0330030'),\n",
       " Row(StateCode='14002TN0330048'),\n",
       " Row(StateCode='14002TN0330054'),\n",
       " Row(StateCode='14002TN0330012'),\n",
       " Row(StateCode='14002TN0330069'),\n",
       " Row(StateCode='14002TN0190104'),\n",
       " Row(StateCode='14002TN0330009'),\n",
       " Row(StateCode='14002TN0330027'),\n",
       " Row(StateCode='14002TN0330031'),\n",
       " Row(StateCode='14002TN0190079'),\n",
       " Row(StateCode='14002TN0330072'),\n",
       " Row(StateCode='14002TN0330025'),\n",
       " Row(StateCode='14002TN0330056'),\n",
       " Row(StateCode='14002TN0190085'),\n",
       " Row(StateCode='14002TN0190092'),\n",
       " Row(StateCode='14002TN0330050'),\n",
       " Row(StateCode='14002TN0330060'),\n",
       " Row(StateCode='14002TN0330001'),\n",
       " Row(StateCode='14002TN0330061'),\n",
       " Row(StateCode='14002TN0190069'),\n",
       " Row(StateCode='14002TN0190078'),\n",
       " Row(StateCode='14002TN0190066'),\n",
       " Row(StateCode='14002TN0190086'),\n",
       " Row(StateCode='14002TN0330052'),\n",
       " Row(StateCode='14002TN0190094'),\n",
       " Row(StateCode='14002TN0190108'),\n",
       " Row(StateCode='14002TN0190068'),\n",
       " Row(StateCode='14002TN0190072'),\n",
       " Row(StateCode='14002TN0190084'),\n",
       " Row(StateCode='14002TN0330065'),\n",
       " Row(StateCode='14002TN0330041'),\n",
       " Row(StateCode='14002TN0190096'),\n",
       " Row(StateCode='14002TN0190101'),\n",
       " Row(StateCode='14002TN0330007'),\n",
       " Row(StateCode='14002TN0330023'),\n",
       " Row(StateCode='14002TN0190065'),\n",
       " Row(StateCode='14002TN0330043'),\n",
       " Row(StateCode='14002TN0330013'),\n",
       " Row(StateCode='14002TN0330029'),\n",
       " Row(StateCode='14002TN0330032'),\n",
       " Row(StateCode='14002TN0330055'),\n",
       " Row(StateCode='14002TN0330045'),\n",
       " Row(StateCode='14002TN0190077'),\n",
       " Row(StateCode='14002TN0330008'),\n",
       " Row(StateCode='14002TN0330044'),\n",
       " Row(StateCode='14002TN0330033'),\n",
       " Row(StateCode='14002TN0330066'),\n",
       " Row(StateCode='14002TN0330021'),\n",
       " Row(StateCode='14002TN0330015'),\n",
       " Row(StateCode='14002TN0330026'),\n",
       " Row(StateCode='14002TN0190070'),\n",
       " Row(StateCode='14002TN0190099'),\n",
       " Row(StateCode='14002TN0330068'),\n",
       " Row(StateCode='14002TN0190106'),\n",
       " Row(StateCode='14002TN0330002'),\n",
       " Row(StateCode='14002TN0330051'),\n",
       " Row(StateCode='14002TN0330019'),\n",
       " Row(StateCode='14002TN0190074'),\n",
       " Row(StateCode='14002TN0330006'),\n",
       " Row(StateCode='14002TN0330062'),\n",
       " Row(StateCode='60612HI0110005'),\n",
       " Row(StateCode='14002TN0330034'),\n",
       " Row(StateCode='14002TN0330035'),\n",
       " Row(StateCode='60612HI0110011'),\n",
       " Row(StateCode='14002TN0330037'),\n",
       " Row(StateCode='14002TN0330039'),\n",
       " Row(StateCode='60612HI0110004'),\n",
       " Row(StateCode='60612HI0110009'),\n",
       " Row(StateCode='14002TN0330036'),\n",
       " Row(StateCode='60612HI0110013'),\n",
       " Row(StateCode='60612HI0110001'),\n",
       " Row(StateCode='60612HI0110007'),\n",
       " Row(StateCode='60612HI0110002'),\n",
       " Row(StateCode='60612HI0110006'),\n",
       " Row(StateCode='60612HI0110010'),\n",
       " Row(StateCode='14002TN0330038'),\n",
       " Row(StateCode='HI')]"
      ]
     },
     "execution_count": 44,
     "metadata": {},
     "output_type": "execute_result"
    }
   ],
   "source": [
    "#Next we want to find out which is the benefit that is most needed per state\n",
    "#Let us first explore the list of distinct states\n",
    "#We need to find for each state code, which is the maximum benefit name\n",
    "states = ins.select('StateCode').filter(ins.StateCode != \"None\").distinct().collect()\n",
    "states"
   ]
  },
  {
   "cell_type": "code",
   "execution_count": 45,
   "id": "8ccce4b6-4e3c-432f-902f-b5fb43d4c468",
   "metadata": {
    "scrolled": true,
    "tags": []
   },
   "outputs": [
    {
     "name": "stderr",
     "output_type": "stream",
     "text": [
      "[Stage 68:==================================>                      (6 + 4) / 10]\r"
     ]
    },
    {
     "name": "stdout",
     "output_type": "stream",
     "text": [
      "+---------+--------------------+-----+\n",
      "|StateCode|         BenefitName|count|\n",
      "+---------+--------------------+-----+\n",
      "|       AZ|     Specialty Drugs| 2886|\n",
      "|       FL|Nutritional Couns...| 4669|\n",
      "|       GA|Dental Check-Up f...| 2893|\n",
      "|       LA|Rehabilitative Oc...| 1157|\n",
      "|       LA|    Infusion Therapy| 1157|\n",
      "|       LA|Preventive Care/S...| 1157|\n",
      "|       MO|Periodontal Root ...|    3|\n",
      "|       ND|   Routine Foot Care|  636|\n",
      "|       OK|Preferred Brand D...| 1787|\n",
      "|       AL|Inpatient Physici...|  360|\n",
      "|       NC|        Chemotherapy| 1221|\n",
      "|       ND|Private-Duty Nursing|  636|\n",
      "|       OK|   Chiropractic Care| 1787|\n",
      "|       MO|Primary Care Visi...| 1219|\n",
      "|       ND|Rehabilitative Oc...|  636|\n",
      "|       ND|        Chemotherapy|  636|\n",
      "|       NJ|Outpatient Facili...|  988|\n",
      "|       PA|Cast metal, stain...|   16|\n",
      "|       AZ|        Hearing Aids| 2886|\n",
      "|       FL|    Hospice Services| 4669|\n",
      "|       ND|Laboratory Outpat...|  636|\n",
      "|       NJ|Outpatient Surger...|  988|\n",
      "|       OK|            Dialysis| 1787|\n",
      "|       AZ|Non-Medically Nec...|   11|\n",
      "|       FL|Diabetes Care Man...| 4669|\n",
      "|       FL|     Vital pulpotomy|    1|\n",
      "|       MO|Denture Reline or...|    5|\n",
      "|       ND|Durable Medical E...|  636|\n",
      "|       PA|Excision of Gingi...|   16|\n",
      "|       AL| Orthodontia - Adult|  653|\n",
      "|       AZ|Periradicular Sur...|    5|\n",
      "|       FL|   Dental Anesthesia| 4669|\n",
      "|       LA|   Cochlear Implants|  147|\n",
      "|       MO|Periodontal and O...|    5|\n",
      "|       MO|Outpatient Facili...| 1219|\n",
      "|       NC|Urgent Care Cente...| 1221|\n",
      "|       OK|        Chemotherapy| 1787|\n",
      "|       PA|Inherited Metabol...| 3579|\n",
      "|       FL|Routine Eye Exam ...| 4669|\n",
      "|       FL|   Routine Foot Care| 4669|\n",
      "|       FL|    Topical Flouride|    5|\n",
      "|       IN|Inpatient Hospita...| 1934|\n",
      "|       IN|Abortion for Whic...| 1934|\n",
      "|       LA|Mental/Behavioral...| 1157|\n",
      "|       MO|Inpatient Physici...| 1219|\n",
      "|       NC|Non-Preferred Bra...| 1221|\n",
      "|       OK|X-rays and Diagno...| 1787|\n",
      "|       SC|Routine Eye Exam ...| 1506|\n",
      "|       AK|Other Practitione...|  551|\n",
      "|       GA|Routine Eye Exam ...| 2420|\n",
      "|       GA|Periodontal Maint...|    5|\n",
      "|       GA|Lymph Node Dissec...|  277|\n",
      "|       IN|   Dental Anesthesia| 1883|\n",
      "|       LA|Interpreter / Tra...|  156|\n",
      "|       MS|Mental/Behavioral...|  621|\n",
      "|       MS|         Extractions|    5|\n",
      "|       NC|Eye Glasses for C...| 1221|\n",
      "|       NJ|Preferred Brand D...|  988|\n",
      "|       PA|Alveolectomy, Alv...|   16|\n",
      "|       SC|Breast Reconstruc...| 1506|\n",
      "+---------+--------------------+-----+\n",
      "only showing top 60 rows\n",
      "\n"
     ]
    },
    {
     "name": "stderr",
     "output_type": "stream",
     "text": [
      "                                                                                \r"
     ]
    }
   ],
   "source": [
    "#From above, we can see that the states contain some values with numbers as well as some wrong values like \n",
    "#HIOS-which is an insurance source name and not a state code. We need to filter these out\n",
    "benefits_per_state_c = spark.sql(\"SELECT * from Benefits WHERE StateCode != 'None' and StateCode REGEXP '^[A-Z]' and CHAR_LENGTH(StateCode) == 2\")\n",
    "benefits_per_state_c= benefits_per_state_c.filter(col(\"StateCode\")!='No')\n",
    "benefits_per_state_c.createOrReplaceTempView (\"benefits_per_state_c\")\n",
    "#Let us understand which benefit name is used most by the population of each state\n",
    "#For this we can group by statecode\n",
    "#we get the benefit names and their count per state\n",
    "benefits_per_state = spark.sql(\"SELECT StateCode, BenefitName, count(BenefitName) as count from benefits_per_state_c GROUP BY BenefitName, StateCode\")\n",
    "benefits_per_state.show(60)"
   ]
  },
  {
   "cell_type": "code",
   "execution_count": 46,
   "id": "46bdceba-657f-4e4a-b361-dfec0cbcb7dc",
   "metadata": {
    "tags": []
   },
   "outputs": [],
   "source": [
    "#From the above we can see that for state AZ the count of the benefits is 2886, so 2886 people have \n",
    "#opted for an insurance plan which provides the benefit of Specialty Drugs\n",
    "#How can we find out which benefit name in state AZ was availed the most?\n",
    "#And similarly find out the most frequent benefit used in each state?\n",
    "#We will do this in the later sections of the notebook"
   ]
  },
  {
   "cell_type": "code",
   "execution_count": 47,
   "id": "471c557f-93fe-41d3-a387-5287e1654d82",
   "metadata": {
    "scrolled": true
   },
   "outputs": [
    {
     "name": "stderr",
     "output_type": "stream",
     "text": [
      "[Stage 71:==================================>                      (6 + 4) / 10]\r"
     ]
    },
    {
     "name": "stdout",
     "output_type": "stream",
     "text": [
      "+---------+------------+\n",
      "|StateCode|tot_benefits|\n",
      "+---------+------------+\n",
      "|       AZ|      221612|\n",
      "|       SC|      111907|\n",
      "|       LA|       91816|\n",
      "|       NJ|       86107|\n",
      "|       OR|       93331|\n",
      "|       VA|      142236|\n",
      "|       WY|       48425|\n",
      "|       NH|       44305|\n",
      "|       MI|      189225|\n",
      "|       NV|       62683|\n",
      "|       WI|      512180|\n",
      "|       ID|       27313|\n",
      "|       NE|       66935|\n",
      "|       MT|       58132|\n",
      "|       NC|       94290|\n",
      "|       DE|       31370|\n",
      "|       MO|       95152|\n",
      "|       IL|      320533|\n",
      "|       ME|       61834|\n",
      "|       ND|       48269|\n",
      "|       MS|       46895|\n",
      "|       AL|       28417|\n",
      "|       IN|      148531|\n",
      "|       OH|      330951|\n",
      "|       TN|      137683|\n",
      "|       IA|      110221|\n",
      "|       NM|       56669|\n",
      "|       PA|      260866|\n",
      "|       SD|       47730|\n",
      "|       TX|      465164|\n",
      "|       WV|       32638|\n",
      "|       GA|      196537|\n",
      "|       KS|       64279|\n",
      "|       FL|      363243|\n",
      "|       AK|       41320|\n",
      "|       AR|       68064|\n",
      "|       OK|      133639|\n",
      "|       UT|       98421|\n",
      "|       HI|        6663|\n",
      "+---------+------------+\n",
      "\n"
     ]
    },
    {
     "name": "stderr",
     "output_type": "stream",
     "text": [
      "                                                                                \r"
     ]
    }
   ],
   "source": [
    "#Next let us try to find out the which state uses the maximum number of benefits\n",
    "#This would tell us which state has a large number of people who avail insurance benefits\n",
    "#Total frequency of benefits used per state\n",
    "benefits_per_state.createOrReplaceTempView (\"benefits_per_state\")\n",
    "tot_benefits = spark.sql(\"SELECT StateCode, sum(count) as tot_benefits from benefits_per_state GROUP BY StateCode\")\n",
    "tot_benefits.show(60)"
   ]
  },
  {
   "cell_type": "code",
   "execution_count": 48,
   "id": "b4aec280-1da7-4bb9-b527-f7471cf30332",
   "metadata": {},
   "outputs": [
    {
     "name": "stderr",
     "output_type": "stream",
     "text": [
      "                                                                                \r"
     ]
    },
    {
     "data": {
      "image/png": "[encoded data removed]",
      "text/plain": [
       "<Figure size 1080x1080 with 1 Axes>"
      ]
     },
     "metadata": {
      "needs_background": "light"
     },
     "output_type": "display_data"
    }
   ],
   "source": [
    "#Let us plot the benefit_count on the y axis and each state on the x-axis\n",
    "import matplotlib.pyplot as plt\n",
    "\n",
    "y_benefits = [val.tot_benefits for val in tot_benefits.select('tot_benefits').collect()]\n",
    "x_state = [val.StateCode for val in tot_benefits.select('StateCode').collect()]\n",
    "\n",
    "plt.figure(figsize=(15, 15))\n",
    "plt.plot(x_state, y_benefits)\n",
    "\n",
    "plt.ylabel('Total no. of Benefits')\n",
    "plt.xlabel('StateCode')\n",
    "plt.title('Number of medical Benefits availed per state')\n",
    "plt.legend(['tot_benefits'], loc='upper left')\n",
    "\n",
    "plt.show()"
   ]
  },
  {
   "cell_type": "code",
   "execution_count": 49,
   "id": "6c43429f-87f9-4ca2-aa9d-0f303ff6779a",
   "metadata": {},
   "outputs": [
    {
     "name": "stderr",
     "output_type": "stream",
     "text": [
      "[Stage 86:==================================>                      (6 + 4) / 10]\r"
     ]
    },
    {
     "name": "stdout",
     "output_type": "stream",
     "text": [
      "+---------+------------+\n",
      "|StateCode|tot_benefits|\n",
      "+---------+------------+\n",
      "|       WI|      512180|\n",
      "|       TX|      465164|\n",
      "|       FL|      363243|\n",
      "|       OH|      330951|\n",
      "|       IL|      320533|\n",
      "+---------+------------+\n",
      "only showing top 5 rows\n",
      "\n"
     ]
    },
    {
     "name": "stderr",
     "output_type": "stream",
     "text": [
      "                                                                                \r"
     ]
    }
   ],
   "source": [
    "#This is difficult to read so let us sort in decreasing order from \n",
    "#the state which used maximum number of benefits to least\n",
    "tot_benefits.createOrReplaceTempView (\"tot_benefits\")\n",
    "tot_benefits_sort = spark.sql(\"SELECT * from tot_benefits ORDER BY tot_benefits DESC\")\n",
    "tot_benefits_sort.show(5)"
   ]
  },
  {
   "cell_type": "code",
   "execution_count": 50,
   "id": "ffc29074-ca51-4ae4-af41-ead616443e02",
   "metadata": {},
   "outputs": [
    {
     "name": "stderr",
     "output_type": "stream",
     "text": [
      "/tmp/ipykernel_31/2596573392.py:8: UserWarning:                                 \n",
      "\n",
      "FixedFormatter should only be used together with FixedLocator\n",
      "\n"
     ]
    },
    {
     "data": {
      "image/png": "[encoded data removed]",
      "text/plain": [
       "<Figure size 1080x1080 with 1 Axes>"
      ]
     },
     "metadata": {
      "needs_background": "light"
     },
     "output_type": "display_data"
    }
   ],
   "source": [
    "#We can see that state WI(Wisconsin) is using maximum number of benefits, followed by TX(Texas) and the FL(Florida)\n",
    "#Let's try to visualize this\n",
    "import seaborn as sns\n",
    "f, ax = plt.subplots(figsize=(15, 15)) \n",
    "x_benefits = [val.tot_benefits for val in tot_benefits_sort.select('tot_benefits').collect()]\n",
    "y_state = [val.StateCode for val in tot_benefits_sort.select('StateCode').collect()]\n",
    "\n",
    "ax.set_yticklabels(y_state, rotation='horizontal', fontsize='large')\n",
    "g = sns.barplot(y = y_state, x= x_benefits)\n",
    "plt.ylabel('State Code')\n",
    "plt.xlabel('Total no. of Benefits')\n",
    "plt.show()"
   ]
  },
  {
   "cell_type": "code",
   "execution_count": 67,
   "id": "119c79a8-e5e6-4928-8a6a-fe582fa9ad44",
   "metadata": {},
   "outputs": [
    {
     "name": "stderr",
     "output_type": "stream",
     "text": [
      "[Stage 130:=======================================>                (7 + 3) / 10]\r"
     ]
    },
    {
     "name": "stdout",
     "output_type": "stream",
     "text": [
      "+---------+--------------------+-----+\n",
      "|StateCode|         BenefitName|count|\n",
      "+---------+--------------------+-----+\n",
      "|       AK| Orthodontia - Child|  720|\n",
      "|       AL| Orthodontia - Adult|  653|\n",
      "|       AR| Orthodontia - Adult| 1077|\n",
      "|       AZ|   Accidental Dental| 3345|\n",
      "|       DE|Dental Check-Up f...|  602|\n",
      "|       FL|Basic Dental Care...| 5130|\n",
      "|       GA|Dental Check-Up f...| 2893|\n",
      "|       HI| Orthodontia - Child|  110|\n",
      "|       IA|Major Dental Care...| 1727|\n",
      "|       ID|Basic Dental Care...|  447|\n",
      "|       IL| Orthodontia - Adult| 4299|\n",
      "|       IN|Routine Dental Se...| 2347|\n",
      "|       KS|Routine Dental Se...| 1087|\n",
      "|       LA| Orthodontia - Child| 1491|\n",
      "|       ME|Major Dental Care...|  975|\n",
      "|       MI| Orthodontia - Adult| 3248|\n",
      "|       MO|   Accidental Dental| 1577|\n",
      "|       MS|   Accidental Dental|  725|\n",
      "|       MT|Major Dental Care...| 1049|\n",
      "|       NC|Routine Dental Se...| 1537|\n",
      "+---------+--------------------+-----+\n",
      "only showing top 20 rows\n",
      "\n"
     ]
    },
    {
     "name": "stderr",
     "output_type": "stream",
     "text": [
      "                                                                                \r"
     ]
    }
   ],
   "source": [
    "#Now we want to find the top benefit used in each state\n",
    "#We can get an idea of which healthcare service is most needed in each state from this\n",
    "window = Window.partitionBy(\"StateCode\").orderBy(col(\"count\").desc())\n",
    "step1 = benefits_per_state.withColumn(\"row\",row_number().over(window)) \\\n",
    "  .filter(col(\"row\") <=1 )\\\n",
    "  .drop(\"row\")\n",
    "step1.show()"
   ]
  },
  {
   "cell_type": "code",
   "execution_count": 68,
   "id": "258d1aaf-542f-49d9-8038-32009675160d",
   "metadata": {},
   "outputs": [],
   "source": [
    "#Thus we can see that in most of the states the maximum used benefit is related to dental care/Orthodontia\n",
    "#Thus dental care is the most sought after benefit and we can use this information to maximise profits\n",
    "#If we inform insurance providers about this, they can design their plans accordingly"
   ]
  },
  {
   "cell_type": "markdown",
   "id": "3b71c14d",
   "metadata": {},
   "source": [
    "## Part III - Effect of Age and Health Habits on Plan Rates"
   ]
  },
  {
   "cell_type": "code",
   "execution_count": 52,
   "id": "f7d2c90d-a074-4c33-bdec-40184191e9bf",
   "metadata": {},
   "outputs": [
    {
     "name": "stderr",
     "output_type": "stream",
     "text": [
      "                                                                                \r"
     ]
    }
   ],
   "source": [
    "#Read the Plan Rates CSV\n",
    "df = spark.read\\\n",
    ".option(\"inferSchema\", \"true\")\\\n",
    ".option(\"header\", True)\\\n",
    ".csv(\"data/rate.csv\")"
   ]
  },
  {
   "cell_type": "code",
   "execution_count": 53,
   "id": "d9b91d6d-a04b-4835-9f9e-0ebf74531cc8",
   "metadata": {},
   "outputs": [
    {
     "name": "stderr",
     "output_type": "stream",
     "text": [
      "[Stage 120:============================================>          (12 + 3) / 15]\r"
     ]
    },
    {
     "name": "stdout",
     "output_type": "stream",
     "text": [
      "+-------------+------------------------+\n",
      "|          Age|Average_Individuale_Rate|\n",
      "+-------------+------------------------+\n",
      "|         0-20|      122.25594318419256|\n",
      "|           21|      4082.8390381688987|\n",
      "|           22|      4082.9056272181106|\n",
      "|           23|      4082.9846245389685|\n",
      "|           24|      4083.0777823621565|\n",
      "|           25|      4083.6237581046585|\n",
      "|           26|      4087.1409880443484|\n",
      "|           27|       4091.294936709168|\n",
      "|           28|        4097.99116228603|\n",
      "|           29|       4103.554396576272|\n",
      "|           30|       4106.364008482652|\n",
      "|           31|      4110.5454047511475|\n",
      "|           32|      4114.7269729050495|\n",
      "|           33|       4117.351338035569|\n",
      "|           34|       4120.145217556796|\n",
      "|           35|       4121.613227202191|\n",
      "|           36|       4123.018255064925|\n",
      "|           37|       4124.441329694502|\n",
      "|           38|       4125.875227832506|\n",
      "|           39|      4128.6927322160045|\n",
      "|           40|       4131.558551592119|\n",
      "|           41|       4135.775540095226|\n",
      "|           42|         4139.8255814778|\n",
      "|           43|       4145.446149795533|\n",
      "|           44|       4152.453901886154|\n",
      "|           45|       4160.829374187685|\n",
      "|           46|       4170.626082851522|\n",
      "|           47|       4181.616741590295|\n",
      "|           48|       4194.177860298679|\n",
      "|           49|       4206.558343294287|\n",
      "|           50|      4220.5485071766325|\n",
      "|           51|      4234.3207659536265|\n",
      "|           52|       4249.475859853964|\n",
      "|           53|       4264.807678892552|\n",
      "|           54|       4281.353287208886|\n",
      "|           55|       4298.124468094752|\n",
      "|           56|       4316.045430193451|\n",
      "|           57|       4334.157268637237|\n",
      "|           58|       4353.466438186729|\n",
      "|           59|       4363.204309136096|\n",
      "|           60|      4382.2472320256675|\n",
      "|           61|       4398.700142903205|\n",
      "|           62|       4409.510558864739|\n",
      "|           63|      4423.0550666574645|\n",
      "|           64|        4431.27977042806|\n",
      "|  65 and over|       4431.414198912759|\n",
      "|Family Option|      28.528599692240096|\n",
      "+-------------+------------------------+\n",
      "\n"
     ]
    },
    {
     "name": "stderr",
     "output_type": "stream",
     "text": [
      "                                                                                \r"
     ]
    }
   ],
   "source": [
    "#Compute Average Individual Plan Rate for each age group\n",
    "age_df = df.groupBy('Age')\\\n",
    "        .agg(avg('IndividualRate').alias('Average_Individuale_Rate'))\\\n",
    "        .orderBy('Age')\n",
    "age_df.show(50)"
   ]
  },
  {
   "cell_type": "code",
   "execution_count": 54,
   "id": "48809e57-b9e5-4b66-b737-82753e3cc641",
   "metadata": {},
   "outputs": [
    {
     "name": "stderr",
     "output_type": "stream",
     "text": [
      "                                                                                \r"
     ]
    },
    {
     "data": {
      "image/png": "[encoded data removed]",
      "text/plain": [
       "<Figure size 1080x1080 with 1 Axes>"
      ]
     },
     "metadata": {
      "needs_background": "light"
     },
     "output_type": "display_data"
    }
   ],
   "source": [
    "#Rates look oddly same for many age categories\n",
    "import matplotlib.pyplot as plt\n",
    "\n",
    "y_avg_rate = [val.Average_Individuale_Rate for val in age_df.select('Average_Individuale_Rate').collect()]\n",
    "x_age = [val.Age for val in age_df.select('Age').collect()]\n",
    "\n",
    "plt.figure( figsize=(15,15))\n",
    "plt.plot(x_age, y_avg_rate)\n",
    "\n",
    "plt.ylabel('Average Annual Insurance Rate (USD)')\n",
    "plt.xlabel('Age')\n",
    "plt.title('Average Annual Insurance Rate vs Age for Individuals')\n",
    "plt.legend(['Average Annual Insurance Rate (USD)'], loc='upper left')\n",
    "\n",
    "plt.show()"
   ]
  },
  {
   "cell_type": "code",
   "execution_count": 57,
   "id": "454e2157-c620-45ec-8e98-47f373af9ddd",
   "metadata": {},
   "outputs": [
    {
     "name": "stderr",
     "output_type": "stream",
     "text": [
      "                                                                                \r"
     ]
    }
   ],
   "source": [
    "#Reading Plan Attributes CSV to perform further analysis on Plan Rates and Age \n",
    "plan_df = spark.read\\\n",
    ".option(\"inferSchema\", \"true\")\\\n",
    ".option(\"header\", True)\\\n",
    ".csv(\"data/PlanAttributes.csv\")"
   ]
  },
  {
   "cell_type": "code",
   "execution_count": 58,
   "id": "75e71c28-d495-4124-8495-a036d68475e2",
   "metadata": {},
   "outputs": [
    {
     "name": "stdout",
     "output_type": "stream",
     "text": [
      "+--------------+--------------+\n",
      "|        planid|dentalonlyplan|\n",
      "+--------------+--------------+\n",
      "|21989AK0020002|           Yes|\n",
      "|21989AK0020002|           Yes|\n",
      "|21989AK0020001|           Yes|\n",
      "|21989AK0010001|           Yes|\n",
      "|21989AK0010001|           Yes|\n",
      "|21989AK0020001|           Yes|\n",
      "|73836AK0650002|            No|\n",
      "|73836AK0680004|            No|\n",
      "|73836AK0680004|            No|\n",
      "|73836AK0650002|            No|\n",
      "|73836AK0650002|            No|\n",
      "|73836AK0630001|            No|\n",
      "|73836AK0680038|            No|\n",
      "|73836AK0630001|            No|\n",
      "|42507AK0020001|           Yes|\n",
      "|42507AK0020001|           Yes|\n",
      "|42507AK0030001|           Yes|\n",
      "|73836AK0630001|            No|\n",
      "|73836AK0680038|            No|\n",
      "|73836AK0630002|            No|\n",
      "+--------------+--------------+\n",
      "only showing top 20 rows\n",
      "\n"
     ]
    }
   ],
   "source": [
    "#Select and pre-process required columns - remove state code from the plsn ID to comvbine the 2 datasets on plan ID\n",
    "plan_df = plan_df.withColumn('planid', substring('planid', 1,14))\\\n",
    "                 .select('planid', 'dentalonlyplan')\n",
    "plan_df.show()"
   ]
  },
  {
   "cell_type": "code",
   "execution_count": 59,
   "id": "ecafbbca-8069-4e38-bffd-6cd6453b8e1a",
   "metadata": {},
   "outputs": [
    {
     "name": "stderr",
     "output_type": "stream",
     "text": [
      "[Stage 143:===============================================>       (13 + 2) / 15]\r"
     ]
    },
    {
     "name": "stdout",
     "output_type": "stream",
     "text": [
      "+----+------------------+\n",
      "| age|      med_rate_avg|\n",
      "+----+------------------+\n",
      "|0-20|175.31748656568496|\n",
      "|  21| 275.4203831270852|\n",
      "|  22|   275.60526800108|\n",
      "|  23| 275.8383278532004|\n",
      "|  24|276.12688143096557|\n",
      "|  25|277.58946304176663|\n",
      "|  26|283.17313377564005|\n",
      "|  27| 289.6860629080482|\n",
      "|  28|300.10899978213513|\n",
      "|  29|308.74581562017903|\n",
      "|  30| 313.0673360634101|\n",
      "|  31|319.54508890794705|\n",
      "|  32| 326.0230255355301|\n",
      "|  33|330.07205729040777|\n",
      "|  34|334.38881782872187|\n",
      "|  35|336.54944131530016|\n",
      "|  36|338.70487261002853|\n",
      "|  37|340.91404514665606|\n",
      "|  38| 343.1527391717487|\n",
      "|  39|347.56163506291915|\n",
      "+----+------------------+\n",
      "only showing top 20 rows\n",
      "\n"
     ]
    },
    {
     "name": "stderr",
     "output_type": "stream",
     "text": [
      "                                                                                \r"
     ]
    }
   ],
   "source": [
    "#Checking Non-Dental Plans and dental plan separately to see how the average rate looks like\n",
    "#Start with non-dental plans\n",
    "med_avg = df.join(plan_df, ['planid'])\\\n",
    "        .select(col('Age'), col('IndividualRate'), col('dentalonlyplan'),col('statecode'))\\\n",
    "        .filter(col('dentalonlyplan') == 'No')\\\n",
    "        .groupBy('age')\\\n",
    "        .agg(avg(col('IndividualRate')).alias('med_rate_avg'))\\\n",
    "        .orderBy(col('Age'))\n",
    "med_avg.show()"
   ]
  },
  {
   "cell_type": "code",
   "execution_count": 60,
   "id": "9c83f93e-61a2-411c-af5a-d7795d402152",
   "metadata": {},
   "outputs": [
    {
     "name": "stderr",
     "output_type": "stream",
     "text": [
      "                                                                                \r"
     ]
    },
    {
     "data": {
      "image/png": "[encoded data removed]",
      "text/plain": [
       "<Figure size 1080x1080 with 1 Axes>"
      ]
     },
     "metadata": {
      "needs_background": "light"
     },
     "output_type": "display_data"
    }
   ],
   "source": [
    "#Rates increase with age for non-dental plans\n",
    "import matplotlib.pyplot as plt\n",
    "\n",
    "y_avg_rate = [val.med_rate_avg for val in med_avg.select('med_rate_avg').collect()]\n",
    "x_age = [val.age for val in med_avg.select('age').collect()]\n",
    "\n",
    "plt.figure( figsize=(15,15))\n",
    "plt.plot(x_age, y_avg_rate)\n",
    "\n",
    "plt.ylabel('Average Annual Insurance Rate (USD)')\n",
    "plt.xlabel('Age')\n",
    "plt.title('Average Annual Insurance Rate vs Age for Individuals with Non-Dental Plans')\n",
    "plt.legend(['Average Annual Insurance Rate (USD)'], loc='upper left')\n",
    "\n",
    "plt.show()"
   ]
  },
  {
   "cell_type": "code",
   "execution_count": 61,
   "id": "8a228de8-2113-4664-9a43-46daac3b7a48",
   "metadata": {},
   "outputs": [
    {
     "name": "stderr",
     "output_type": "stream",
     "text": [
      "[Stage 165:============================================>          (12 + 3) / 15]\r"
     ]
    },
    {
     "name": "stdout",
     "output_type": "stream",
     "text": [
      "+----+---------+--------------+--------------+\n",
      "| Age|statecode|IndividualRate|dentalonlyplan|\n",
      "+----+---------+--------------+--------------+\n",
      "|0-20|       AK|         259.0|            No|\n",
      "|0-20|       AK|         360.0|            No|\n",
      "|0-20|       AK|         259.0|            No|\n",
      "|0-20|       AK|         264.0|            No|\n",
      "|0-20|       AK|         367.0|            No|\n",
      "|0-20|       AK|         353.0|            No|\n",
      "|0-20|       AK|         259.0|            No|\n",
      "|0-20|       AK|         264.0|            No|\n",
      "|0-20|       AK|         264.0|            No|\n",
      "|0-20|       AK|         373.0|            No|\n",
      "|0-20|       AK|         367.0|            No|\n",
      "|0-20|       AK|         360.0|            No|\n",
      "|0-20|       AK|         353.0|            No|\n",
      "|0-20|       AK|         259.0|            No|\n",
      "|0-20|       AK|         259.0|            No|\n",
      "|0-20|       AK|         264.0|            No|\n",
      "|0-20|       AK|         366.0|            No|\n",
      "|0-20|       AK|         264.0|            No|\n",
      "|0-20|       AK|         264.0|            No|\n",
      "|0-20|       AK|         373.0|            No|\n",
      "+----+---------+--------------+--------------+\n",
      "only showing top 20 rows\n",
      "\n"
     ]
    },
    {
     "name": "stderr",
     "output_type": "stream",
     "text": [
      "                                                                                \r"
     ]
    }
   ],
   "source": [
    "#Check the individual rates state-wise\n",
    "med = df.join(plan_df, ['planid'])\\\n",
    "        .select(col('Age') ,col('statecode'), col('IndividualRate'), col('dentalonlyplan'))\\\n",
    "        .filter(col('dentalonlyplan') == 'No')\\\n",
    "        .orderBy(col('Age'), col('statecode'))\n",
    "med.show()"
   ]
  },
  {
   "cell_type": "code",
   "execution_count": 78,
   "id": "bc3e26fe-9347-4241-bde3-a612c0f3474a",
   "metadata": {},
   "outputs": [],
   "source": [
    "#Find out correlation between age and plan rates for non-dental plans\n",
    "#substring of 0-20 to 20\n",
    "#convert string to int using cast\n",
    "med = med.withColumn(\"Age\", when(med.Age == \"0-20\",\"20\")\n",
    "                           .when(med.Age == \"65 and over\", \"65\" )\n",
    "                           .otherwise(med.Age))\\\n",
    "         .filter( med.Age != \"Family Option\" )\n",
    "\n",
    "med = med.withColumn( \"Age\", col(\"Age\").cast(\"integer\"))"
   ]
  },
  {
   "cell_type": "code",
   "execution_count": 79,
   "id": "ceee080e-a4df-4c9a-9168-f44258450e0d",
   "metadata": {},
   "outputs": [
    {
     "name": "stderr",
     "output_type": "stream",
     "text": [
      "                                                                                \r"
     ]
    },
    {
     "data": {
      "text/plain": [
       "0.7599402192775833"
      ]
     },
     "execution_count": 79,
     "metadata": {},
     "output_type": "execute_result"
    }
   ],
   "source": [
    "med.stat.corr(\"Age\", \"IndividualRate\")\n",
    "#We get a good correlation"
   ]
  },
  {
   "cell_type": "code",
   "execution_count": 80,
   "id": "75cde8ea-341a-49eb-86e5-833a1fa523e4",
   "metadata": {},
   "outputs": [
    {
     "name": "stderr",
     "output_type": "stream",
     "text": [
      "                                                                                \r"
     ]
    },
    {
     "data": {
      "text/plain": [
       "0.9442173992842794"
      ]
     },
     "execution_count": 80,
     "metadata": {},
     "output_type": "execute_result"
    }
   ],
   "source": [
    "med_avg = med_avg.withColumn(\"age\", when(med_avg.age == \"0-20\",\"20\") \n",
    "                           .when(med_avg.age == \"65 and over\", \"65\" )\n",
    "                           .otherwise(med_avg.age))\\\n",
    "         .filter( med_avg.age != \"Family Option\" )\n",
    "med_avg = med_avg.withColumn( \"age\", col(\"age\").cast(\"integer\"))\n",
    "\n",
    "med_avg.stat.corr(\"age\", \"med_rate_avg\" )"
   ]
  },
  {
   "cell_type": "code",
   "execution_count": 62,
   "id": "80b61106-986c-4358-a05e-b59fc013151b",
   "metadata": {},
   "outputs": [
    {
     "name": "stderr",
     "output_type": "stream",
     "text": [
      "[Stage 167:===============================================>       (13 + 2) / 15]\r"
     ]
    },
    {
     "name": "stdout",
     "output_type": "stream",
     "text": [
      "+----+-----------------+\n",
      "| age|     den_rate_avg|\n",
      "+----+-----------------+\n",
      "|0-20|27.42485717755229|\n",
      "|  21|9735.999907165442|\n",
      "|  22|9736.057686851002|\n",
      "|  23|9736.116937220746|\n",
      "|  24|9736.176907180658|\n",
      "|  25|9735.668956190291|\n",
      "|  26| 9735.82599795673|\n",
      "|  27|9735.895462602337|\n",
      "|  28|  9735.9587485933|\n",
      "|  29| 9736.02201152818|\n",
      "|  30|9736.108019762509|\n",
      "|  31|9736.172372405787|\n",
      "|  32|9736.237752573245|\n",
      "|  33|9736.304284298334|\n",
      "|  34|9736.370881684665|\n",
      "|  35|9736.559496058246|\n",
      "|  36|9736.628133518403|\n",
      "|  37|9736.696735113417|\n",
      "|  38| 9736.76725027833|\n",
      "|  39|9736.838678723381|\n",
      "+----+-----------------+\n",
      "only showing top 20 rows\n",
      "\n"
     ]
    },
    {
     "name": "stderr",
     "output_type": "stream",
     "text": [
      "                                                                                \r"
     ]
    }
   ],
   "source": [
    "#Checking Dental Plans\n",
    "den_avg = df.join(plan_df, ['planid'])\\\n",
    "        .select(col('Age'), col('IndividualRate'), col('dentalonlyplan'),col('statecode'))\\\n",
    "        .filter(col('dentalonlyplan') == 'Yes')\\\n",
    "        .groupBy('age')\\\n",
    "        .agg(avg(col('IndividualRate')).alias('den_rate_avg'))\\\n",
    "        .orderBy(col('Age'))\n",
    "den_avg.show()"
   ]
  },
  {
   "cell_type": "code",
   "execution_count": 64,
   "id": "eac46c19-66cd-450b-84cc-6a1950512ed0",
   "metadata": {},
   "outputs": [
    {
     "name": "stderr",
     "output_type": "stream",
     "text": [
      "                                                                                \r"
     ]
    },
    {
     "data": {
      "image/png": "[encoded data removed]",
      "text/plain": [
       "<Figure size 1440x1440 with 1 Axes>"
      ]
     },
     "metadata": {
      "needs_background": "light"
     },
     "output_type": "display_data"
    }
   ],
   "source": [
    "import matplotlib.pyplot as plt\n",
    "\n",
    "y_avg_rate = [val.den_rate_avg for val in den_avg.select('den_rate_avg').collect()]\n",
    "x_age = [val.age for val in den_avg.select('age').collect()]\n",
    "\n",
    "plt.figure( figsize=(20,20))\n",
    "plt.plot(x_age, y_avg_rate)\n",
    "\n",
    "plt.ylabel('Average Annual Insurance Rate (USD)')\n",
    "plt.xlabel('Age')\n",
    "plt.title('Average Annual Insurance Rate vs Age for Individuals with Dental Plans')\n",
    "plt.legend(['Average Annual Insurance Rate (USD)'], loc='upper left')\n",
    "\n",
    "plt.show()"
   ]
  },
  {
   "cell_type": "code",
   "execution_count": 83,
   "id": "dfb03256-b88b-481d-a7a4-7aaebb96235f",
   "metadata": {
    "scrolled": false
   },
   "outputs": [
    {
     "name": "stderr",
     "output_type": "stream",
     "text": [
      "[Stage 222:============================================>          (12 + 3) / 15]\r"
     ]
    },
    {
     "name": "stdout",
     "output_type": "stream",
     "text": [
      "+----+---------+--------------+--------------+\n",
      "| Age|statecode|IndividualRate|dentalonlyplan|\n",
      "+----+---------+--------------+--------------+\n",
      "|0-20|       AK|         33.55|           Yes|\n",
      "|0-20|       AK|          43.0|           Yes|\n",
      "|0-20|       AK|         33.55|           Yes|\n",
      "|0-20|       AK|          43.0|           Yes|\n",
      "|0-20|       AK|          43.0|           Yes|\n",
      "|0-20|       AK|         33.55|           Yes|\n",
      "|0-20|       AK|         33.55|           Yes|\n",
      "|0-20|       AK|          43.0|           Yes|\n",
      "|0-20|       AK|          43.0|           Yes|\n",
      "|0-20|       AK|          43.0|           Yes|\n",
      "|0-20|       AK|          43.0|           Yes|\n",
      "|0-20|       AK|          43.0|           Yes|\n",
      "|0-20|       AK|         33.55|           Yes|\n",
      "|0-20|       AK|         33.55|           Yes|\n",
      "|0-20|       AK|         33.55|           Yes|\n",
      "|0-20|       AK|          43.0|           Yes|\n",
      "|0-20|       AK|         33.55|           Yes|\n",
      "|0-20|       AK|          43.0|           Yes|\n",
      "|0-20|       AK|          43.0|           Yes|\n",
      "|0-20|       AK|          43.0|           Yes|\n",
      "+----+---------+--------------+--------------+\n",
      "only showing top 20 rows\n",
      "\n"
     ]
    },
    {
     "name": "stderr",
     "output_type": "stream",
     "text": [
      "                                                                                \r"
     ]
    }
   ],
   "source": [
    "den = df.join(plan_df, ['planid'])\\\n",
    "        .select(col('Age') ,col('statecode'), col('IndividualRate'), col('dentalonlyplan'))\\\n",
    "        .filter(col('dentalonlyplan') == 'Yes')\\\n",
    "        .orderBy(col('Age'), col('statecode'))\n",
    "den.show()"
   ]
  },
  {
   "cell_type": "code",
   "execution_count": 84,
   "id": "8d9daa02-0c03-46ae-983b-44f3fd4987c6",
   "metadata": {},
   "outputs": [
    {
     "name": "stderr",
     "output_type": "stream",
     "text": [
      "                                                                                \r"
     ]
    },
    {
     "data": {
      "text/plain": [
       "0.003742359055674814"
      ]
     },
     "execution_count": 84,
     "metadata": {},
     "output_type": "execute_result"
    }
   ],
   "source": [
    "#Find correlation between age and plan rates for dental plans\n",
    "den = den.withColumn(\"Age\", when(den.Age == \"0-20\",\"20\") \n",
    "                           .when(den.Age == \"65 and over\", \"65\" )\n",
    "                           .otherwise(den.Age))\\\n",
    "         .filter( den.Age != \"Family Option\" )\n",
    "\n",
    "den = den.withColumn( \"Age\", col(\"Age\").cast(\"integer\"))\n",
    "den.stat.corr(\"Age\", \"IndividualRate\")\n",
    "#We can see that the correlation of dental plans with age is not very great, thus plan rates not age dependent"
   ]
  },
  {
   "cell_type": "code",
   "execution_count": 85,
   "id": "07f9b56f-5e43-4236-8111-e9754635e5d8",
   "metadata": {},
   "outputs": [
    {
     "name": "stderr",
     "output_type": "stream",
     "text": [
      "                                                                                \r"
     ]
    },
    {
     "data": {
      "text/plain": [
       "0.2535548581000786"
      ]
     },
     "execution_count": 85,
     "metadata": {},
     "output_type": "execute_result"
    }
   ],
   "source": [
    "den_avg = den_avg.withColumn(\"age\", when(den_avg.age == \"0-20\",\"20\") \n",
    "                           .when(den_avg.age == \"65 and over\", \"65\" ) \n",
    "                           .otherwise(den_avg.age))\\\n",
    "         .filter( den_avg.age != \"Family Option\" )\n",
    "den_avg = den_avg.withColumn( \"age\", col(\"age\").cast(\"integer\"))\n",
    "\n",
    "den_avg.stat.corr(\"age\", \"den_rate_avg\" )"
   ]
  },
  {
   "cell_type": "markdown",
   "id": "f7941aff-3660-435a-af66-f1d5297843de",
   "metadata": {},
   "source": [
    "Analysing based on Health Habits"
   ]
  },
  {
   "cell_type": "code",
   "execution_count": null,
   "id": "5970b429-fe01-449f-8c64-211516101b4e",
   "metadata": {},
   "outputs": [],
   "source": [
    "hdf = df.select(col('Age'), col('Tobacco'), col('IndividualRate'), col('IndividualTobaccoRate'))\n",
    "hdf.show()"
   ]
  },
  {
   "cell_type": "code",
   "execution_count": null,
   "id": "f38c1abb-5daf-4158-969c-9c9dce4191b8",
   "metadata": {
    "collapsed": true
   },
   "outputs": [
    {
     "name": "stdout",
     "output_type": "stream",
     "text": [
      "+-------------+-------+--------------+---------------------+\n",
      "|          Age|Tobacco|IndividualRate|IndividualTobaccoRate|\n",
      "+-------------+-------+--------------+---------------------+\n",
      "|         0-20|      0|          29.0|                  0.0|\n",
      "|Family Option|      0|         36.95|                  0.0|\n",
      "|Family Option|      0|         36.95|                  0.0|\n",
      "|           21|      0|          32.0|                  0.0|\n",
      "|           22|      0|          32.0|                  0.0|\n",
      "|Family Option|      0|         36.95|                  0.0|\n",
      "|Family Option|      0|         32.45|                  0.0|\n",
      "|           23|      0|          32.0|                  0.0|\n",
      "|           24|      0|          32.0|                  0.0|\n",
      "|Family Option|      0|         32.45|                  0.0|\n",
      "|Family Option|      0|         32.45|                  0.0|\n",
      "|           25|      0|          32.0|                  0.0|\n",
      "|           26|      0|          32.0|                  0.0|\n",
      "|           27|      0|          32.0|                  0.0|\n",
      "|           28|      0|          32.0|                  0.0|\n",
      "|           29|      0|          32.0|                  0.0|\n",
      "|           30|      0|          32.0|                  0.0|\n",
      "|           31|      0|          32.0|                  0.0|\n",
      "|           32|      0|          32.0|                  0.0|\n",
      "|           33|      0|          32.0|                  0.0|\n",
      "+-------------+-------+--------------+---------------------+\n",
      "only showing top 20 rows\n",
      "\n"
     ]
    }
   ],
   "source": [
    "#Encode No Preference for Tobacco as 0 and a preference as 1\n",
    "#Fill IndividualTobaccoRate as 0 when there is no preference\n",
    "hdfp = hdf.withColumn(\"Tobacco\", when(hdf.Tobacco == \"No Preference\",0) \\\n",
    "      .otherwise(1))\n",
    "hdfp = hdfp.na.fill(0)\n",
    "hdfp.show()"
   ]
  },
  {
   "cell_type": "code",
   "execution_count": null,
   "id": "a734141f-cd04-4e38-a086-4579daaf570a",
   "metadata": {
    "collapsed": true
   },
   "outputs": [
    {
     "name": "stdout",
     "output_type": "stream",
     "text": [
      "+----+-------+--------------+---------------------+\n",
      "| Age|Tobacco|IndividualRate|IndividualTobaccoRate|\n",
      "+----+-------+--------------+---------------------+\n",
      "|0-20|      1|        111.74|               111.74|\n",
      "|  21|      1|        175.99|               193.59|\n",
      "|  22|      1|        175.99|               193.59|\n",
      "|  23|      1|        175.99|               193.59|\n",
      "|  24|      1|        175.99|               193.59|\n",
      "|  25|      1|         176.7|               194.37|\n",
      "|  26|      1|         180.2|               198.22|\n",
      "|  27|      1|        184.43|               202.87|\n",
      "|  28|      1|         191.3|               210.43|\n",
      "|  29|      1|        196.93|               216.62|\n",
      "|  30|      1|        199.74|               219.71|\n",
      "|  31|      1|        203.97|               224.36|\n",
      "|  32|      1|         208.2|               229.01|\n",
      "|  33|      1|        210.82|                231.9|\n",
      "|  34|      1|        213.65|               235.02|\n",
      "|  35|      1|        215.05|               236.55|\n",
      "|  36|      1|        216.47|               238.11|\n",
      "|  37|      1|        217.86|               239.65|\n",
      "|  38|      1|        219.28|                241.2|\n",
      "|  39|      1|        222.09|                244.3|\n",
      "+----+-------+--------------+---------------------+\n",
      "only showing top 20 rows\n",
      "\n"
     ]
    }
   ],
   "source": [
    "tb = hdfp.filter(col('IndividualTobaccoRate') != 0)\n",
    "tb.show()"
   ]
  },
  {
   "cell_type": "code",
   "execution_count": null,
   "id": "09898db9-113d-4ed1-a4f4-938cbfb9912d",
   "metadata": {},
   "outputs": [
    {
     "name": "stderr",
     "output_type": "stream",
     "text": [
      "                                                                                \r"
     ]
    },
    {
     "data": {
      "text/plain": [
       "0.9737016662122226"
      ]
     },
     "metadata": {},
     "output_type": "display_data"
    }
   ],
   "source": [
    "tb.stat.corr('IndividualTobaccoRate', 'IndividualRate')\n",
    "#We have a good correlation with IndividualTobaccoRate and IndividualRate"
   ]
  },
  {
   "cell_type": "markdown",
   "id": "c1304c4e",
   "metadata": {},
   "source": [
    "## Part IV - Distribution of Rates across Insurance Issuers"
   ]
  },
  {
   "cell_type": "code",
   "execution_count": 47,
   "id": "02c793af",
   "metadata": {},
   "outputs": [],
   "source": [
    "groups = Window.partitionBy(\"IssuerId\").orderBy(\"IndividualRate\")\n",
    "windowspec = Window.partitionBy(\"IssuerId\")"
   ]
  },
  {
   "cell_type": "code",
   "execution_count": 48,
   "id": "56eea826",
   "metadata": {},
   "outputs": [],
   "source": [
    "ipdata = rate_data.select(\"IssuerId\",\"IndividualRate\")"
   ]
  },
  {
   "cell_type": "code",
   "execution_count": 49,
   "id": "1dd33c21",
   "metadata": {},
   "outputs": [],
   "source": [
    "ipdata_stats = ipdata.withColumn(\"row\",row_number().over(groups))\\\n",
    "  .withColumn(\"count\",count(col(\"IndividualRate\")).over(windowspec)) \\\n",
    "  .withColumn(\"mean\", mean(col(\"IndividualRate\")).over(windowspec)) \\\n",
    "  .withColumn(\"stddev\",stddev(col(\"IndividualRate\")).over(windowspec))\\\n",
    "  .where(col(\"row\")==1).select(\"IssuerId\",\"count\",\"mean\",\"stddev\")"
   ]
  },
  {
   "cell_type": "code",
   "execution_count": 50,
   "id": "96a51e3a",
   "metadata": {},
   "outputs": [
    {
     "name": "stderr",
     "output_type": "stream",
     "text": [
      "[Stage 57:>                                                         (0 + 1) / 1]\r"
     ]
    },
    {
     "name": "stdout",
     "output_type": "stream",
     "text": [
      "+--------+------+------------------+------------------+\n",
      "|IssuerId| count|              mean|            stddev|\n",
      "+--------+------+------------------+------------------+\n",
      "|   10739|   736|19.971249999999916|1.2289627560598946|\n",
      "|   11103|  3212| 72.67022415940018| 39.17536515406607|\n",
      "|   12530|    20|            31.425| 4.568093579094941|\n",
      "|   13285|  1288|0.3670108695652174|2.6768842700750355|\n",
      "|   15438|  6486|380.50515726179424|  180.876982136986|\n",
      "|   15614| 10902|19.740659512014798| 7.740719660597932|\n",
      "|   16204| 26588|  526.804486986609|244.19828136414532|\n",
      "|   16698|  2576|452.08496894409996|205.46164595023956|\n",
      "|   16724|  3220| 404.4502950310556|170.74374396142105|\n",
      "|   18973| 12834| 324.8096330060759|160.46629117946128|\n",
      "|   20069|  1104|370.34895833333303|179.07184226759813|\n",
      "|   20129|136528| 496.1959869770377|229.92480209549302|\n",
      "|   23499|    98| 32.85142857142859|5.8234617897342575|\n",
      "|   24106|  2576| 32.95595108695577| 6.207346523440822|\n",
      "|   25440|  1288|0.7023913043478263| 4.935427013893114|\n",
      "|   25741| 16704| 31.66891463122672|  7.17555229683884|\n",
      "|   26539| 22770|  395.266633289411| 178.1090096847558|\n",
      "|   27357|146832| 472.9550661981042| 210.6931124523676|\n",
      "|   28732|  4784|0.5511956521739125|3.9006782718827164|\n",
      "|   28856| 90712|26.693166725459992| 3.667736912066964|\n",
      "+--------+------+------------------+------------------+\n",
      "only showing top 20 rows\n",
      "\n"
     ]
    },
    {
     "name": "stderr",
     "output_type": "stream",
     "text": [
      "\r\n",
      "                                                                                \r"
     ]
    }
   ],
   "source": [
    "ipdata_stats.show()"
   ]
  },
  {
   "cell_type": "markdown",
   "id": "5f9120f2",
   "metadata": {},
   "source": [
    "With the above information we have have effectively calculated the dispersion (using standard deviation) of plan rates across each of the issuers which tells us how the data is distributed in each of the issuerid groups."
   ]
  },
  {
   "cell_type": "code",
   "execution_count": 51,
   "id": "a395a48e",
   "metadata": {},
   "outputs": [
    {
     "name": "stderr",
     "output_type": "stream",
     "text": [
      "[Stage 60:========================>                                 (3 + 4) / 7]\r"
     ]
    },
    {
     "name": "stdout",
     "output_type": "stream",
     "text": [
      "+--------+-----+------------------+------------------+\n",
      "|IssuerId|count|              mean|            stddev|\n",
      "+--------+-----+------------------+------------------+\n",
      "|   17859| 3864|326112.38229813665| 468821.8232593795|\n",
      "|   26075| 2320|193988.10149568965|395475.86620604934|\n",
      "|   26904| 7140| 176490.6838739496|  381236.974109308|\n",
      "|   11324| 3336| 161892.2988399281|368377.17377564113|\n",
      "|   42757| 3336|161897.17219424463| 368375.0318917477|\n",
      "+--------+-----+------------------+------------------+\n",
      "only showing top 5 rows\n",
      "\n"
     ]
    },
    {
     "name": "stderr",
     "output_type": "stream",
     "text": [
      "\r\n",
      "[Stage 60:=================================================>        (6 + 1) / 7]\r\n",
      "\r\n",
      "                                                                                \r"
     ]
    }
   ],
   "source": [
    "ipdata_stats.sort(col(\"stddev\").desc()).show(5)"
   ]
  },
  {
   "cell_type": "markdown",
   "id": "27b60c3f",
   "metadata": {},
   "source": [
    "The above statistics shows us issuers which have a very diverse portfolio based on standard deviation"
   ]
  },
  {
   "cell_type": "markdown",
   "id": "ec81f9b9",
   "metadata": {},
   "source": [
    "## Part V - Predicting Individual Insurance Rate"
   ]
  },
  {
   "cell_type": "code",
   "execution_count": 7,
   "id": "45f767c1",
   "metadata": {
    "code_folding": [],
    "scrolled": false
   },
   "outputs": [
    {
     "name": "stderr",
     "output_type": "stream",
     "text": [
      "                                                                                \r"
     ]
    }
   ],
   "source": [
    "rate = spark.read\\\n",
    "        .option(\"InferSchema\",\"true\")\\\n",
    "        .option(\"header\",\"true\")\\\n",
    "        .format(\"csv\")\\\n",
    "        .load(\"data/Rate.csv\")"
   ]
  },
  {
   "cell_type": "markdown",
   "id": "059102c7",
   "metadata": {},
   "source": [
    "Below we are filtering the million dollar dataset form the Rate table"
   ]
  },
  {
   "cell_type": "code",
   "execution_count": 8,
   "id": "7c435985",
   "metadata": {},
   "outputs": [],
   "source": [
    "rate = rate.filter(col(\"IndividualRate\")!= 99999)"
   ]
  },
  {
   "cell_type": "markdown",
   "id": "5d6abc83",
   "metadata": {},
   "source": [
    "Below we are filtering all the null values from the individual tobacco rate from the rate table"
   ]
  },
  {
   "cell_type": "code",
   "execution_count": 9,
   "id": "05f677b3",
   "metadata": {},
   "outputs": [],
   "source": [
    "rate = rate.where(col(\"IndividualTobaccoRate\").isNotNull())"
   ]
  },
  {
   "cell_type": "markdown",
   "id": "dc216496",
   "metadata": {},
   "source": [
    "The age column here is filtered to exclude any non numerical groups and they are cast to integers"
   ]
  },
  {
   "cell_type": "code",
   "execution_count": 10,
   "id": "55df5c19",
   "metadata": {},
   "outputs": [],
   "source": [
    "rate = rate.withColumn(\"Age\", when(rate.Age == \"0-20\",\"20\")\n",
    "                           .when(rate.Age == \"65 and over\", \"65\" )\n",
    "                           .otherwise(rate.Age))\\\n",
    "         .filter( rate.Age != \"Family Option\" )\n",
    "rate = rate.withColumn( \"Age\", col(\"Age\").cast(\"integer\"))"
   ]
  },
  {
   "cell_type": "markdown",
   "id": "634bf86b",
   "metadata": {},
   "source": [
    "Filtering out all the rows where age is null"
   ]
  },
  {
   "cell_type": "code",
   "execution_count": 11,
   "id": "030d51a9",
   "metadata": {},
   "outputs": [],
   "source": [
    "rate = rate.where(col(\"Age\").isNotNull())"
   ]
  },
  {
   "cell_type": "code",
   "execution_count": 12,
   "id": "62f12d44",
   "metadata": {},
   "outputs": [],
   "source": [
    "features = [\"Age\",\"IndividualTobaccoRate\"]\n",
    "label = [\"IndividualRate\"]\n",
    "all_columns = features+label"
   ]
  },
  {
   "cell_type": "code",
   "execution_count": 13,
   "id": "44320b21",
   "metadata": {},
   "outputs": [],
   "source": [
    "rate = rate.select(all_columns)"
   ]
  },
  {
   "cell_type": "code",
   "execution_count": 14,
   "id": "e2964bc0",
   "metadata": {
    "scrolled": false
   },
   "outputs": [
    {
     "name": "stderr",
     "output_type": "stream",
     "text": [
      "                                                                                \r"
     ]
    }
   ],
   "source": [
    "for column in rate.columns:\n",
    "    if (rate.where(col(column).isNull()).count() >0):\n",
    "        print(column)"
   ]
  },
  {
   "cell_type": "markdown",
   "id": "a44d9f1c",
   "metadata": {},
   "source": [
    "The pipeline includes a vector assembler which will convert all the feature fields into a vector which builds the feature vector for the linear regression model"
   ]
  },
  {
   "cell_type": "code",
   "execution_count": 15,
   "id": "161d1c72",
   "metadata": {},
   "outputs": [],
   "source": [
    "from pyspark.ml.feature import VectorAssembler\n",
    "\n",
    "stages = []\n",
    "assembler = VectorAssembler(inputCols=features, outputCol=\"features\")\n",
    "stages += [assembler]"
   ]
  },
  {
   "cell_type": "code",
   "execution_count": 16,
   "id": "57e6cb1c",
   "metadata": {},
   "outputs": [
    {
     "name": "stdout",
     "output_type": "stream",
     "text": [
      "root\n",
      " |-- features: vector (nullable = true)\n",
      " |-- Age: integer (nullable = true)\n",
      " |-- IndividualTobaccoRate: double (nullable = true)\n",
      " |-- IndividualRate: double (nullable = true)\n",
      "\n"
     ]
    }
   ],
   "source": [
    "from pyspark.ml import Pipeline\n",
    "pipeline = Pipeline(stages = stages)\n",
    "pipelineModel = pipeline.fit(rate)\n",
    "rate = pipelineModel.transform(rate)\n",
    "selectedCols = ['features'] + all_columns\n",
    "df = rate.select(selectedCols)\n",
    "df.printSchema()"
   ]
  },
  {
   "cell_type": "code",
   "execution_count": 17,
   "id": "15edd21e",
   "metadata": {},
   "outputs": [
    {
     "name": "stderr",
     "output_type": "stream",
     "text": [
      "                                                                                \r"
     ]
    },
    {
     "name": "stdout",
     "output_type": "stream",
     "text": [
      "Training Dataset Count: 3452226\n"
     ]
    },
    {
     "name": "stderr",
     "output_type": "stream",
     "text": [
      "[Stage 16:================================================>       (13 + 2) / 15]\r"
     ]
    },
    {
     "name": "stdout",
     "output_type": "stream",
     "text": [
      "Test Dataset Count: 1480123\n"
     ]
    },
    {
     "name": "stderr",
     "output_type": "stream",
     "text": [
      "\r\n",
      "[Stage 16:====================================================>   (14 + 1) / 15]\r\n",
      "\r\n",
      "                                                                                \r"
     ]
    }
   ],
   "source": [
    "train, test = df.randomSplit([0.7, 0.3], seed = 2018)\n",
    "print(\"Training Dataset Count: \" + str(train.count()))\n",
    "print(\"Test Dataset Count: \" + str(test.count()))"
   ]
  },
  {
   "cell_type": "code",
   "execution_count": 18,
   "id": "509e685a",
   "metadata": {
    "collapsed": true
   },
   "outputs": [
    {
     "name": "stderr",
     "output_type": "stream",
     "text": [
      "\r\n",
      "[Stage 19:>                                                         (0 + 1) / 1]\r"
     ]
    },
    {
     "name": "stdout",
     "output_type": "stream",
     "text": [
      "+------------+\n",
      "|    features|\n",
      "+------------+\n",
      "| [20.0,65.3]|\n",
      "|[20.0,66.84]|\n",
      "|[20.0,67.16]|\n",
      "|[20.0,68.85]|\n",
      "|[20.0,70.97]|\n",
      "|[20.0,71.63]|\n",
      "| [20.0,76.0]|\n",
      "|[20.0,78.07]|\n",
      "|[20.0,78.07]|\n",
      "| [20.0,79.0]|\n",
      "| [20.0,79.0]|\n",
      "| [20.0,79.0]|\n",
      "| [20.0,79.0]|\n",
      "| [20.0,79.0]|\n",
      "|[20.0,79.71]|\n",
      "|[20.0,79.71]|\n",
      "|[20.0,81.95]|\n",
      "|[20.0,83.95]|\n",
      "|[20.0,84.93]|\n",
      "|[20.0,85.18]|\n",
      "+------------+\n",
      "only showing top 20 rows\n",
      "\n"
     ]
    },
    {
     "name": "stderr",
     "output_type": "stream",
     "text": [
      "\r\n",
      "                                                                                \r"
     ]
    }
   ],
   "source": [
    "train.select(\"features\").show()"
   ]
  },
  {
   "cell_type": "code",
   "execution_count": 19,
   "id": "ac01cba9",
   "metadata": {},
   "outputs": [
    {
     "name": "stderr",
     "output_type": "stream",
     "text": [
      "21/12/14 00:18:41 WARN Instrumentation: [c7a08f09] regParam is zero, which might cause numerical instability and overfitting.\n",
      "21/12/14 00:18:43 WARN InstanceBuilder$NativeBLAS: Failed to load implementation from:dev.ludovic.netlib.blas.JNIBLAS\n",
      "21/12/14 00:18:43 WARN InstanceBuilder$NativeBLAS: Failed to load implementation from:dev.ludovic.netlib.blas.ForeignLinkerBLAS\n",
      "21/12/14 00:18:47 WARN InstanceBuilder$NativeLAPACK: Failed to load implementation from:dev.ludovic.netlib.lapack.JNILAPACK\n",
      "                                                                                \r"
     ]
    }
   ],
   "source": [
    "from pyspark.ml.regression import LinearRegression\n",
    "lr = LinearRegression(featuresCol = 'features', labelCol = 'IndividualRate', maxIter=10)\n",
    "lrModel = lr.fit(train)"
   ]
  },
  {
   "cell_type": "code",
   "execution_count": 20,
   "id": "f613ea66",
   "metadata": {
    "scrolled": true
   },
   "outputs": [],
   "source": [
    "accuracy = lrModel.summary.r2"
   ]
  },
  {
   "cell_type": "code",
   "execution_count": 21,
   "id": "653c350b",
   "metadata": {},
   "outputs": [
    {
     "data": {
      "text/plain": [
       "94.95656252106932"
      ]
     },
     "execution_count": 21,
     "metadata": {},
     "output_type": "execute_result"
    }
   ],
   "source": [
    "accuracy*100"
   ]
  },
  {
   "cell_type": "code",
   "execution_count": 22,
   "id": "bd9bf93a",
   "metadata": {},
   "outputs": [
    {
     "data": {
      "text/plain": [
       "DenseVector([0.9962, 0.7402])"
      ]
     },
     "execution_count": 22,
     "metadata": {},
     "output_type": "execute_result"
    }
   ],
   "source": [
    "lrModel.coefficients"
   ]
  },
  {
   "cell_type": "code",
   "execution_count": 52,
   "id": "fb6d31b9",
   "metadata": {
    "scrolled": true
   },
   "outputs": [
    {
     "name": "stderr",
     "output_type": "stream",
     "text": [
      "\r\n",
      "[Stage 61:>                                                         (0 + 1) / 1]\r"
     ]
    },
    {
     "name": "stdout",
     "output_type": "stream",
     "text": [
      "+-----------------+--------------+\n",
      "|       prediction|IndividualRate|\n",
      "+-----------------+--------------+\n",
      "|76.14572374520209|         51.99|\n",
      "|87.75178107503372|         78.07|\n",
      "|88.44015054676481|         65.83|\n",
      "|88.44015054676481|          79.0|\n",
      "|88.44015054676481|          79.0|\n",
      "+-----------------+--------------+\n",
      "only showing top 5 rows\n",
      "\n"
     ]
    },
    {
     "name": "stderr",
     "output_type": "stream",
     "text": [
      "\r\n",
      "                                                                                \r"
     ]
    }
   ],
   "source": [
    "predictions = lrModel.transform(test)\n",
    "predictions.select('prediction', 'IndividualRate').show(5)"
   ]
  },
  {
   "cell_type": "markdown",
   "id": "4310d6f3",
   "metadata": {},
   "source": [
    "\\================================================================<br>\n",
    "The part below is part of a future investigation and not included in our final solution<br>\n",
    "\\================================================================<br>"
   ]
  },
  {
   "cell_type": "markdown",
   "id": "4c75ee28",
   "metadata": {},
   "source": [
    "## Predicting Plan Rate\n",
    "\n",
    "Preliminary prediction model for plan rate using predictor features from the plan attributes dataset"
   ]
  },
  {
   "cell_type": "code",
   "execution_count": 111,
   "id": "46be4475",
   "metadata": {
    "collapsed": true
   },
   "outputs": [
    {
     "name": "stderr",
     "output_type": "stream",
     "text": [
      "                                                                                \r"
     ]
    }
   ],
   "source": [
    "rate = spark.read\\\n",
    "        .option(\"InferSchema\",\"true\")\\\n",
    "        .option(\"header\",\"true\")\\\n",
    "        .format(\"csv\")\\\n",
    "        .load(\"data/Rate.csv\")\n",
    "\n",
    "plan = spark.read\\\n",
    "        .option(\"InferSchema\",\"true\")\\\n",
    "        .option(\"header\",\"true\")\\\n",
    "        .format(\"csv\")\\\n",
    "        .load(\"data/PlanAttributes.csv\")"
   ]
  },
  {
   "cell_type": "code",
   "execution_count": 112,
   "id": "04a73997",
   "metadata": {},
   "outputs": [],
   "source": [
    "rate = rate.filter(col(\"IndividualRate\")!= 99999)"
   ]
  },
  {
   "cell_type": "code",
   "execution_count": 113,
   "id": "1b30feff",
   "metadata": {},
   "outputs": [],
   "source": [
    "rate = rate.groupBy(\"PlanId\").agg(avg(\"IndividualRate\").alias(\"Avg\"))"
   ]
  },
  {
   "cell_type": "code",
   "execution_count": 59,
   "id": "f87cff58",
   "metadata": {
    "collapsed": true
   },
   "outputs": [
    {
     "name": "stderr",
     "output_type": "stream",
     "text": [
      "[Stage 209:============================================>          (12 + 3) / 15]\r"
     ]
    },
    {
     "name": "stdout",
     "output_type": "stream",
     "text": [
      "+--------------+------------------+\n",
      "|        PlanId|               Avg|\n",
      "+--------------+------------------+\n",
      "|51485AZ0160005|481.07978260869515|\n",
      "|88925AZ0010040| 373.9669565217392|\n",
      "|91450AZ0170014| 344.0383423913044|\n",
      "|56503FL1080001| 283.6473913043478|\n",
      "|50988GA0070001| 28.18552989130429|\n",
      "|70239AZ0010011| 397.4545652173914|\n",
      "|48129FL0150002| 26.17999999999891|\n",
      "|56503FL1320001|  332.542766798419|\n",
      "|50988GA0110001|18.889605978260715|\n",
      "|50988GA0120001|  9.66460597826081|\n",
      "|53901AZ0570001|267.18804347826085|\n",
      "|84251AZ0070004|279.13968944099366|\n",
      "|99180AZ0100002| 14.63055900621118|\n",
      "|23841FL0080009|  405.558352402746|\n",
      "|56503FL1410002|466.78009881422923|\n",
      "|46944AL0430001| 302.0830755295427|\n",
      "|12538AL0010006|20.422307692307694|\n",
      "|77352AZ0020002| 489130.6892080745|\n",
      "|35783FL1150001|253.39416666666673|\n",
      "|73836AK0650004|443.10869565217394|\n",
      "+--------------+------------------+\n",
      "only showing top 20 rows\n",
      "\n"
     ]
    },
    {
     "name": "stderr",
     "output_type": "stream",
     "text": [
      "\r\n",
      "[Stage 209:===============================================>       (13 + 2) / 15]\r\n",
      "\r\n",
      "                                                                                \r"
     ]
    }
   ],
   "source": [
    "rate.show()"
   ]
  },
  {
   "cell_type": "code",
   "execution_count": 114,
   "id": "a18db8fd",
   "metadata": {},
   "outputs": [],
   "source": [
    "plan = plan.withColumn(\"PlanId\",substring(\"PlanId\",1,14))"
   ]
  },
  {
   "cell_type": "code",
   "execution_count": 115,
   "id": "6121862e",
   "metadata": {},
   "outputs": [],
   "source": [
    "features = [\"BeginPrimaryCareCostSharingAfterNumberOfVisits\",\n",
    "\"BeginPrimaryCareDeductibleCoinsuranceAfterNumberOfCopays\",\n",
    "\"ChildOnlyOffering\",\n",
    "\"DentalOnlyPlan\",\n",
    "\"DiseaseManagementProgramsOffered\",\n",
    "\"FirstTierUtilization\",\n",
    "\"MarketCoverage\",\n",
    "\"MetalLevel\",\n",
    "\"OutOfCountryCoverage\",\n",
    "\"PlanType\",\n",
    "\"WellnessProgramOffered\"]\n",
    "\n",
    "label = [\"PlanId\"]\n",
    "\n",
    "all_columns = features+label"
   ]
  },
  {
   "cell_type": "code",
   "execution_count": 116,
   "id": "d40a928b",
   "metadata": {},
   "outputs": [],
   "source": [
    "plan = plan.select(all_columns)"
   ]
  },
  {
   "cell_type": "code",
   "execution_count": 117,
   "id": "0a11305d",
   "metadata": {},
   "outputs": [],
   "source": [
    "planattr = plan.join(rate,[\"PlanId\"])"
   ]
  },
  {
   "cell_type": "code",
   "execution_count": 118,
   "id": "e6342846",
   "metadata": {
    "collapsed": true
   },
   "outputs": [
    {
     "name": "stderr",
     "output_type": "stream",
     "text": [
      "21/12/08 23:09:56 WARN CacheManager: Asked to cache already cached data.\n"
     ]
    },
    {
     "data": {
      "text/plain": [
       "DataFrame[PlanId: string, BeginPrimaryCareCostSharingAfterNumberOfVisits: int, BeginPrimaryCareDeductibleCoinsuranceAfterNumberOfCopays: int, ChildOnlyOffering: string, DentalOnlyPlan: string, DiseaseManagementProgramsOffered: string, FirstTierUtilization: string, MarketCoverage: string, MetalLevel: string, OutOfCountryCoverage: string, PlanType: string, WellnessProgramOffered: string, Avg: double]"
      ]
     },
     "execution_count": 118,
     "metadata": {},
     "output_type": "execute_result"
    }
   ],
   "source": [
    "planattr.cache()"
   ]
  },
  {
   "cell_type": "code",
   "execution_count": 83,
   "id": "027f0d78",
   "metadata": {
    "collapsed": true
   },
   "outputs": [
    {
     "name": "stdout",
     "output_type": "stream",
     "text": [
      "+--------------+----------------------------------------------+--------------------------------------------------------+--------------------+--------------+--------------------------------+--------------------+------------------+----------+--------------------+--------+----------------------+------------------+\n",
      "|        PlanId|BeginPrimaryCareCostSharingAfterNumberOfVisits|BeginPrimaryCareDeductibleCoinsuranceAfterNumberOfCopays|   ChildOnlyOffering|DentalOnlyPlan|DiseaseManagementProgramsOffered|FirstTierUtilization|    MarketCoverage|MetalLevel|OutOfCountryCoverage|PlanType|WellnessProgramOffered|               Avg|\n",
      "+--------------+----------------------------------------------+--------------------------------------------------------+--------------------+--------------+--------------------------------+--------------------+------------------+----------+--------------------+--------+----------------------+------------------+\n",
      "|51485AZ0160005|                                             1|                                                       0|Allows Adult and ...|            No|            Asthma, Heart Dis...|                100%|SHOP (Small Group)|      Gold|                  No|     PPO|                   Yes|481.07978260869515|\n",
      "|51485AZ0160005|                                             1|                                                       0|Allows Adult and ...|            No|            Asthma, Heart Dis...|                100%|SHOP (Small Group)|      Gold|                  No|     PPO|                   Yes|481.07978260869515|\n",
      "|51485AZ0160005|                                             0|                                                       0|Allows Adult and ...|            No|            Asthma, Heart Dis...|                100%|SHOP (Small Group)|      Gold|                  No|     PPO|                   Yes|481.07978260869515|\n",
      "|51485AZ0160005|                                             0|                                                       0|Allows Adult and ...|            No|            Asthma, Heart Dis...|                100%|SHOP (Small Group)|      Gold|                  No|     PPO|                   Yes|481.07978260869515|\n",
      "|51485AZ0160005|                                             0|                                                       0|Allows Adult and ...|            No|            Asthma, Heart Dis...|                100%|SHOP (Small Group)|      Gold|                  No|     PPO|                    No|481.07978260869515|\n",
      "+--------------+----------------------------------------------+--------------------------------------------------------+--------------------+--------------+--------------------------------+--------------------+------------------+----------+--------------------+--------+----------------------+------------------+\n",
      "only showing top 5 rows\n",
      "\n"
     ]
    }
   ],
   "source": [
    "planattr.show(5)"
   ]
  },
  {
   "cell_type": "code",
   "execution_count": 119,
   "id": "1a0dfbd7",
   "metadata": {
    "collapsed": true
   },
   "outputs": [
    {
     "name": "stdout",
     "output_type": "stream",
     "text": [
      "+--------------+-----+\n",
      "|        PlanId|count|\n",
      "+--------------+-----+\n",
      "|51485AZ0160005|    6|\n",
      "|88925AZ0010040|    7|\n",
      "|91450AZ0170014|    2|\n",
      "|56503FL1080001|    2|\n",
      "|50988GA0070001|    2|\n",
      "|43499IN0070005|    1|\n",
      "|85320IN0010042|    6|\n",
      "|97176LA0350001|   12|\n",
      "|56891NC0060003|    3|\n",
      "|91762NJ0080004|    6|\n",
      "|93627NJ0110001|    1|\n",
      "|45689OK0010006|    6|\n",
      "|76668OK0040005|    1|\n",
      "|87571OK0400006|    3|\n",
      "|31609PA0150009|    4|\n",
      "|70194PA0140005|    7|\n",
      "|41614SC0020051|    7|\n",
      "|89281SC0010005|    2|\n",
      "|38166WI0140002|    6|\n",
      "|40308VA0280001|   12|\n",
      "+--------------+-----+\n",
      "only showing top 20 rows\n",
      "\n"
     ]
    }
   ],
   "source": [
    "planattr.groupBy(\"PlanId\").count().show()"
   ]
  },
  {
   "cell_type": "code",
   "execution_count": 120,
   "id": "b52d0557",
   "metadata": {},
   "outputs": [],
   "source": [
    "planattr = planattr.withColumn(\"ChildOnlyOffering\", lower(\"ChildOnlyOffering\"))\\\n",
    "                    .withColumn(\"WellnessProgramOffered\", when(lower(\"WellnessProgramOffered\") == \"no\",\"no\")\n",
    "                                                        .when(lower(\"WellnessProgramOffered\").isNull(),\"none\")\n",
    "                                                        .otherwise(\"yes\"))"
   ]
  },
  {
   "cell_type": "code",
   "execution_count": 121,
   "id": "8974bced",
   "metadata": {},
   "outputs": [],
   "source": [
    "perc_conv = udf(lambda col1: float(col1[:-1])/100, FloatType())"
   ]
  },
  {
   "cell_type": "code",
   "execution_count": 122,
   "id": "e467154c",
   "metadata": {},
   "outputs": [],
   "source": [
    "planattr = planattr.withColumn(\"FirstTierUtilization\", perc_conv(col(\"FirstTierUtilization\")))"
   ]
  },
  {
   "cell_type": "code",
   "execution_count": 123,
   "id": "30d8f74b",
   "metadata": {},
   "outputs": [],
   "source": [
    "planattr = planattr.withColumn(\"DiseaseManagementProgramsOffered\", when(col(\"DiseaseManagementProgramsOffered\").isNull(),\"no\")\\\n",
    "                                                        .otherwise(\"yes\"))"
   ]
  },
  {
   "cell_type": "code",
   "execution_count": 124,
   "id": "b93cefe9",
   "metadata": {},
   "outputs": [],
   "source": [
    "planattr = planattr.where(col(\"PlanId\").isNotNull())"
   ]
  },
  {
   "cell_type": "code",
   "execution_count": 125,
   "id": "d7d8ab47",
   "metadata": {
    "collapsed": true
   },
   "outputs": [
    {
     "name": "stderr",
     "output_type": "stream",
     "text": [
      "\r\n",
      "[Stage 1620:========================================>           (155 + 6) / 200]\r\n",
      "\r\n",
      "                                                                                \r"
     ]
    }
   ],
   "source": [
    "for column in planattr.columns:\n",
    "    if (planattr.where(col(column).isNull()).count() >0):\n",
    "        print(column)"
   ]
  },
  {
   "cell_type": "code",
   "execution_count": 130,
   "id": "da64da61",
   "metadata": {},
   "outputs": [],
   "source": [
    "from pyspark.ml.feature import OneHotEncoder, StringIndexer, VectorAssembler, MinMaxScaler\n",
    "\n",
    "categoricalColumns = [\\\n",
    "                      \"ChildOnlyOffering\",\\\n",
    "                      \"DentalOnlyPlan\",\\\n",
    "                      \"DiseaseManagementProgramsOffered\",\\\n",
    "                      \"MarketCoverage\",\\\n",
    "                      \"MetalLevel\",\\\n",
    "                      \"OutOfCountryCoverage\",\\\n",
    "                      \"PlanType\",\\\n",
    "                      \"WellnessProgramOffered\"]\n",
    "stages = []\n",
    "for categoricalCol in categoricalColumns:\n",
    "    stringIndexer = StringIndexer(inputCol = categoricalCol, outputCol = categoricalCol + 'Index')\n",
    "    encoder = OneHotEncoder(inputCols=[stringIndexer.getOutputCol()], outputCols=[categoricalCol + \"classVec\"])\n",
    "    stages += [stringIndexer, encoder]\n",
    "numericCols = [\"BeginPrimaryCareCostSharingAfterNumberOfVisits\",\\\n",
    "               \"BeginPrimaryCareDeductibleCoinsuranceAfterNumberOfCopays\",\\\n",
    "               \"FirstTierUtilization\"]\n",
    "normalizeCols = numericCols+[\"Avg\"]\n",
    "for norm in normalizeCols:\n",
    "    assembler = VectorAssembler(inputCols=[norm],outputCol=norm+\"_Vec\")\n",
    "    scaler = MinMaxScaler(inputCol=norm+\"_Vec\", outputCol=norm+\"_Scaled\")\n",
    "    stages += [assembler,scaler]\n",
    "assemblerInputs = [c + \"classVec\" for c in categoricalColumns] + [n + \"_Scaled\" for n in numericCols]\n",
    "assembler = VectorAssembler(inputCols=assemblerInputs, outputCol=\"features\")\n",
    "stages += [assembler]"
   ]
  },
  {
   "cell_type": "code",
   "execution_count": 131,
   "id": "0b47db0d",
   "metadata": {
    "collapsed": true
   },
   "outputs": [
    {
     "name": "stderr",
     "output_type": "stream",
     "text": [
      "                                                                                \r"
     ]
    },
    {
     "name": "stdout",
     "output_type": "stream",
     "text": [
      "root\n",
      " |-- features: vector (nullable = true)\n",
      " |-- Avg_Scaled: vector (nullable = true)\n",
      " |-- BeginPrimaryCareCostSharingAfterNumberOfVisits: integer (nullable = true)\n",
      " |-- BeginPrimaryCareDeductibleCoinsuranceAfterNumberOfCopays: integer (nullable = true)\n",
      " |-- ChildOnlyOffering: string (nullable = true)\n",
      " |-- DentalOnlyPlan: string (nullable = true)\n",
      " |-- DiseaseManagementProgramsOffered: string (nullable = false)\n",
      " |-- FirstTierUtilization: float (nullable = true)\n",
      " |-- MarketCoverage: string (nullable = true)\n",
      " |-- MetalLevel: string (nullable = true)\n",
      " |-- OutOfCountryCoverage: string (nullable = true)\n",
      " |-- PlanType: string (nullable = true)\n",
      " |-- WellnessProgramOffered: string (nullable = false)\n",
      " |-- PlanId: string (nullable = true)\n",
      "\n"
     ]
    }
   ],
   "source": [
    "from pyspark.ml import Pipeline\n",
    "pipeline = Pipeline(stages = stages)\n",
    "pipelineModel = pipeline.fit(planattr)\n",
    "planattr = pipelineModel.transform(planattr)\n",
    "selectedCols = ['features','Avg_Scaled'] + all_columns\n",
    "df = planattr.select(selectedCols)\n",
    "df.printSchema()"
   ]
  },
  {
   "cell_type": "code",
   "execution_count": 132,
   "id": "6602114c",
   "metadata": {
    "collapsed": true
   },
   "outputs": [
    {
     "data": {
      "text/plain": [
       "DataFrame[PlanId: string, BeginPrimaryCareCostSharingAfterNumberOfVisits: int, BeginPrimaryCareDeductibleCoinsuranceAfterNumberOfCopays: int, ChildOnlyOffering: string, DentalOnlyPlan: string, DiseaseManagementProgramsOffered: string, FirstTierUtilization: float, MarketCoverage: string, MetalLevel: string, OutOfCountryCoverage: string, PlanType: string, WellnessProgramOffered: string, Avg: double, ChildOnlyOfferingIndex: double, ChildOnlyOfferingclassVec: vector, DentalOnlyPlanIndex: double, DentalOnlyPlanclassVec: vector, DiseaseManagementProgramsOfferedIndex: double, DiseaseManagementProgramsOfferedclassVec: vector, MarketCoverageIndex: double, MarketCoverageclassVec: vector, MetalLevelIndex: double, MetalLevelclassVec: vector, OutOfCountryCoverageIndex: double, OutOfCountryCoverageclassVec: vector, PlanTypeIndex: double, PlanTypeclassVec: vector, WellnessProgramOfferedIndex: double, WellnessProgramOfferedclassVec: vector, BeginPrimaryCareCostSharingAfterNumberOfVisits_Vec: vector, BeginPrimaryCareCostSharingAfterNumberOfVisits_Scaled: vector, BeginPrimaryCareDeductibleCoinsuranceAfterNumberOfCopays_Vec: vector, BeginPrimaryCareDeductibleCoinsuranceAfterNumberOfCopays_Scaled: vector, FirstTierUtilization_Vec: vector, FirstTierUtilization_Scaled: vector, Avg_Vec: vector, Avg_Scaled: vector, features: vector]"
      ]
     },
     "execution_count": 132,
     "metadata": {},
     "output_type": "execute_result"
    }
   ],
   "source": [
    "planattr"
   ]
  },
  {
   "cell_type": "code",
   "execution_count": 151,
   "id": "487e81ab",
   "metadata": {
    "collapsed": true
   },
   "outputs": [
    {
     "data": {
      "text/plain": [
       "0.0004917704608680162"
      ]
     },
     "execution_count": 151,
     "metadata": {},
     "output_type": "execute_result"
    }
   ],
   "source": [
    "df.select(\"Avg_Scaled\").collect()[0][0][0]"
   ]
  },
  {
   "cell_type": "code",
   "execution_count": 156,
   "id": "5b9f8bc4",
   "metadata": {},
   "outputs": [],
   "source": [
    "firstelement=udf(lambda v:float(v[0]),FloatType())"
   ]
  },
  {
   "cell_type": "code",
   "execution_count": 158,
   "id": "2944e475",
   "metadata": {},
   "outputs": [],
   "source": [
    "df = df.withColumn(\"Avg_Scaled\", firstelement('Avg_Scaled'))"
   ]
  },
  {
   "cell_type": "code",
   "execution_count": 159,
   "id": "8290dfb2",
   "metadata": {
    "collapsed": true
   },
   "outputs": [
    {
     "name": "stderr",
     "output_type": "stream",
     "text": [
      "                                                                                \r"
     ]
    },
    {
     "name": "stdout",
     "output_type": "stream",
     "text": [
      "Training Dataset Count: 54014\n"
     ]
    },
    {
     "name": "stderr",
     "output_type": "stream",
     "text": [
      "[Stage 1831:==============================================>     (179 + 6) / 200]\r"
     ]
    },
    {
     "name": "stdout",
     "output_type": "stream",
     "text": [
      "Test Dataset Count: 23324\n"
     ]
    },
    {
     "name": "stderr",
     "output_type": "stream",
     "text": [
      "\r\n",
      "[Stage 1831:===================================================>(198 + 2) / 200]\r\n",
      "\r\n",
      "                                                                                \r"
     ]
    }
   ],
   "source": [
    "train, test = df.randomSplit([0.7, 0.3], seed = 2018)\n",
    "print(\"Training Dataset Count: \" + str(train.count()))\n",
    "print(\"Test Dataset Count: \" + str(test.count()))"
   ]
  },
  {
   "cell_type": "code",
   "execution_count": 160,
   "id": "db500af5",
   "metadata": {
    "collapsed": true
   },
   "outputs": [
    {
     "name": "stdout",
     "output_type": "stream",
     "text": [
      "+--------------------+\n",
      "|            features|\n",
      "+--------------------+\n",
      "|(22,[0,2,3,4,5,11...|\n",
      "|(22,[0,2,3,4,5,11...|\n",
      "|(22,[0,2,3,4,5,11...|\n",
      "|(22,[0,2,3,4,5,11...|\n",
      "|(22,[0,2,3,4,5,11...|\n",
      "|(22,[0,2,3,4,5,11...|\n",
      "|(22,[0,2,3,4,5,11...|\n",
      "|(22,[0,2,3,4,5,11...|\n",
      "|(22,[0,2,3,4,5,11...|\n",
      "|(22,[0,2,3,4,5,11...|\n",
      "|(22,[0,2,3,4,5,11...|\n",
      "|(22,[0,2,3,4,5,11...|\n",
      "|(22,[0,2,3,4,5,11...|\n",
      "|(22,[0,2,3,4,5,11...|\n",
      "|(22,[0,2,3,4,5,11...|\n",
      "|(22,[0,2,3,4,5,11...|\n",
      "|(22,[0,2,3,4,5,11...|\n",
      "|(22,[0,2,3,4,5,11...|\n",
      "|(22,[0,2,3,4,5,11...|\n",
      "|(22,[0,2,3,4,5,11...|\n",
      "+--------------------+\n",
      "only showing top 20 rows\n",
      "\n"
     ]
    }
   ],
   "source": [
    "train.select(\"features\").show()"
   ]
  },
  {
   "cell_type": "code",
   "execution_count": 161,
   "id": "4ddc3ba0",
   "metadata": {
    "collapsed": true
   },
   "outputs": [
    {
     "name": "stderr",
     "output_type": "stream",
     "text": [
      "21/12/08 23:26:05 WARN Instrumentation: [c7b2dbcd] regParam is zero, which might cause numerical instability and overfitting.\n",
      "                                                                                \r"
     ]
    }
   ],
   "source": [
    "from pyspark.ml.regression import LinearRegression\n",
    "lr = LinearRegression(featuresCol = 'features', labelCol = 'Avg_Scaled', maxIter=10)\n",
    "lrModel = lr.fit(train)"
   ]
  },
  {
   "cell_type": "code",
   "execution_count": 162,
   "id": "e05a6710",
   "metadata": {
    "collapsed": true
   },
   "outputs": [
    {
     "name": "stdout",
     "output_type": "stream",
     "text": [
      "-0.0008068184986191497\n",
      "0.04446373115197729\n",
      "0.000497477662908947\n",
      "7.871990532816573e-06\n",
      "0.001169387876070188\n",
      "0.00010762811438514267\n",
      "-3.665368422501674e-05\n",
      "0.00048043909819111305\n",
      "-0.003598158933045748\n",
      "-0.003051174248874211\n",
      "0.0010733778876640793\n",
      "-0.002399890349625707\n",
      "0.0018053719028382322\n",
      "0.012403898446853998\n",
      "0.010956978831525738\n",
      "0.011643586968435477\n",
      "0.009944159180367963\n",
      "-0.0034657491794721942\n",
      "-0.004352731521273249\n",
      "-0.00011095751156302483\n",
      "0.0004450315378040055\n",
      "0.0021303392010883853\n"
     ]
    }
   ],
   "source": [
    "# all_features = categoricalColumns+numericCols\n",
    "# len(all_features)\n",
    "# len(lrModel.coefficients)\n",
    "for i in range(0,len(lrModel.coefficients)):\n",
    "    print(lrModel.coefficients[i])"
   ]
  },
  {
   "cell_type": "code",
   "execution_count": 164,
   "id": "7461d31d",
   "metadata": {
    "collapsed": true
   },
   "outputs": [
    {
     "name": "stdout",
     "output_type": "stream",
     "text": [
      "+--------------+--------------------+------------+\n",
      "|        PlanId|          prediction|  Avg_Scaled|\n",
      "+--------------+--------------------+------------+\n",
      "|40308VA0280001| 6.99063235101053E-4| 4.267257E-4|\n",
      "|40308VA0280001| 6.99063235101053E-4| 4.267257E-4|\n",
      "|40308VA0280001| 6.99063235101053E-4| 4.267257E-4|\n",
      "|33653ME0050003|-1.87919106700001...|4.4841864E-4|\n",
      "|33653ME0050003|-1.87919106700001...|4.4841864E-4|\n",
      "|33602TX0780049|-0.00189151187229...|4.0717446E-4|\n",
      "|33602TX0780049|-0.00189151187229...|4.0717446E-4|\n",
      "|33602TX0780031|-0.00189151187229...| 5.143207E-4|\n",
      "|88380VA0720021|-0.00157785870384...|3.8416754E-4|\n",
      "|88380VA0720021|-0.00157785870384...|3.8416754E-4|\n",
      "|88380VA0720021|-0.00157785870384...|3.8416754E-4|\n",
      "|88380VA0720021|-0.00157785870384...|3.8416754E-4|\n",
      "|88380VA0720021|-0.00157785870384...|3.8416754E-4|\n",
      "|88380VA0720021|-0.00157785870384...|3.8416754E-4|\n",
      "|33602TX0460341|-7.47856380227207...|4.5406292E-4|\n",
      "|88380VA0890002|-6.68734798032579...| 4.235512E-4|\n",
      "|88380VA0890002|-6.68734798032579...| 4.235512E-4|\n",
      "|16322PA0050031|-0.00264765837318...| 2.693301E-4|\n",
      "|16322PA0050031|-0.00264765837318...| 2.693301E-4|\n",
      "|16322PA0050031|-0.00264765837318...| 2.693301E-4|\n",
      "|16322PA0050031|-0.00264765837318...| 2.693301E-4|\n",
      "|16322PA0050031|-0.00264765837318...| 2.693301E-4|\n",
      "|56707OR0900009|-0.00264765837318...|  3.76927E-4|\n",
      "|29276OH0740029|0.004074323163947879|4.5751056E-4|\n",
      "|29276OH0740029|0.004074323163947879|4.5751056E-4|\n",
      "|29276OH0740029|0.004074323163947879|4.5751056E-4|\n",
      "|29276OH0740029|0.004074323163947879|4.5751056E-4|\n",
      "|29276OH0740029|0.004074323163947879|4.5751056E-4|\n",
      "|35065IN0020014|0.003457405872236731|4.0415936E-4|\n",
      "|35065IN0020014|0.003457405872236731|4.0415936E-4|\n",
      "|35065IN0020014|0.003457405872236731|4.0415936E-4|\n",
      "|88925AZ0010040|0.002477958937466...|3.8227736E-4|\n",
      "|88925AZ0010040|0.002477958937466...|3.8227736E-4|\n",
      "|88380VA0890002|0.003536527454431...| 4.235512E-4|\n",
      "|88380VA0890002|0.003536527454431...| 4.235512E-4|\n",
      "|88380VA0890002|0.003536527454431...| 4.235512E-4|\n",
      "|29276OH0740007|-1.86214579565418...|3.5758942E-4|\n",
      "|29276OH0740007|-1.86214579565418...|3.5758942E-4|\n",
      "|87571OK0320032|5.547814364908928E-4|2.9395978E-4|\n",
      "|87571OK0320032|5.547814364908928E-4|2.9395978E-4|\n",
      "|55957PA0190005|-3.32200905310161...|  2.86314E-4|\n",
      "|55957PA0190005|-3.32200905310161...|  2.86314E-4|\n",
      "|33602TX0770058|-0.00201730075231...|3.3754934E-4|\n",
      "|27619UT0010005|-0.00173461736685...|2.5787688E-4|\n",
      "|27619UT0010005|-0.00173461736685...|2.5787688E-4|\n",
      "|27619UT0010005|-0.00173461736685...|2.5787688E-4|\n",
      "|27619UT0010005|-0.00173461736685...|2.5787688E-4|\n",
      "|57173NM0320002|-0.00177912052063...| 3.122413E-4|\n",
      "|67243LA0090010|-0.00109251238372...|3.5804024E-4|\n",
      "|67243LA0090010|-0.00109251238372...|3.5804024E-4|\n",
      "+--------------+--------------------+------------+\n",
      "only showing top 50 rows\n",
      "\n"
     ]
    }
   ],
   "source": [
    "predictions = lrModel.transform(test)\n",
    "predictions.select('PlanId','prediction', 'Avg_Scaled').show(50)"
   ]
  }
 ],
 "metadata": {
  "kernelspec": {
   "display_name": "Python 3 (ipykernel)",
   "language": "python",
   "name": "python3"
  },
  "language_info": {
   "codemirror_mode": {
    "name": "ipython",
    "version": 3
   },
   "file_extension": ".py",
   "mimetype": "text/x-python",
   "name": "python",
   "nbconvert_exporter": "python",
   "pygments_lexer": "ipython3",
   "version": "3.9.7"
  },
  "toc": {
   "base_numbering": 1,
   "nav_menu": {},
   "number_sections": false,
   "sideBar": true,
   "skip_h1_title": false,
   "title_cell": "Table of Contents",
   "title_sidebar": "Contents",
   "toc_cell": false,
   "toc_position": {
    "height": "calc(100% - 180px)",
    "left": "10px",
    "top": "150px",
    "width": "283px"
   },
   "toc_section_display": true,
   "toc_window_display": true
  },
  "varInspector": {
   "cols": {
    "lenName": 16,
    "lenType": 16,
    "lenVar": 40
   },
   "kernels_config": {
    "python": {
     "delete_cmd_postfix": "",
     "delete_cmd_prefix": "del ",
     "library": "var_list.py",
     "varRefreshCmd": "print(var_dic_list())"
    },
    "r": {
     "delete_cmd_postfix": ") ",
     "delete_cmd_prefix": "rm(",
     "library": "var_list.r",
     "varRefreshCmd": "cat(var_dic_list()) "
    }
   },
   "types_to_exclude": [
    "module",
    "function",
    "builtin_function_or_method",
    "instance",
    "_Feature"
   ],
   "window_display": false
  }
 },
 "nbformat": 4,
 "nbformat_minor": 5
}
